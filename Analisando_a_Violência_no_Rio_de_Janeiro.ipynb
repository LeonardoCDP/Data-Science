{
  "nbformat": 4,
  "nbformat_minor": 0,
  "metadata": {
    "colab": {
      "name": "Analisando a Violência no Rio de Janeiro.ipynb",
      "provenance": [],
      "collapsed_sections": [],
      "toc_visible": true
    },
    "kernelspec": {
      "name": "python3",
      "display_name": "Python 3"
    }
  },
  "cells": [
    {
      "cell_type": "markdown",
      "metadata": {
        "id": "-eFQZydM9O9J",
        "colab_type": "text"
      },
      "source": [
        "<img alt=\"Colaboratory logo\" width=\"15%\" src=\"https://raw.githubusercontent.com/carlosfab/escola-data-science/master/img/novo_logo_bg_claro.png\">\n",
        "\n",
        "#### **Data Science na Prática 2.0**\n",
        "*by Leonardo Cotta*\n",
        "\n"
      ]
    },
    {
      "cell_type": "markdown",
      "metadata": {
        "id": "pywtVZgmVzJf",
        "colab_type": "text"
      },
      "source": [
        "<img alt=\"Rio De Janeiro by Free Pik\" width=\"100%\" src=\"https://raw.githubusercontent.com/LeonardoCDP/Data-Science/master/Imagens/Rio_Janeiro.jpg\">"
      ]
    },
    {
      "cell_type": "markdown",
      "metadata": {
        "id": "kLI0gJtzDGuQ",
        "colab_type": "text"
      },
      "source": [
        "# Analisando a Violência no Rio de Janeiro\n",
        "\n"
      ]
    },
    {
      "cell_type": "markdown",
      "metadata": {
        "id": "sZOUYwUO3XUh",
        "colab_type": "text"
      },
      "source": [
        "**Rio de Janeiro** um dos cartões postais do **Brasil** com varios pontos turisticos e suas belas praias, com um população estimada de 17.264.943 pessoas tendo a desidade demografica de 365,23 habitantes por kilometro quadrado abragindo a area de 43.750,527 Km² com um total de 6.725.882 veiculos registrados segundo o IBGE (2019).\n",
        " \n",
        "Infelizmento como nem tudo e um mar de rosas iremos analisar os indices de violencia disponibilizados pelo **Governo do Estado do Rio de Jaeniro**. \n",
        "\n",
        "\n",
        "\n"
      ]
    },
    {
      "cell_type": "markdown",
      "metadata": {
        "id": "0zxQHhIUDF_2",
        "colab_type": "text"
      },
      "source": [
        "## Obtenção dos Dados\n",
        "\n",
        "Utilizaremos a Base de dados sobre a criminalidade no **Rio de Janeiro** disponibilizada pela **Policia Militar do Rio de Janeiro**\n",
        "\n",
        "A base de dados original encontra-se neste link para consulta-la [Clique Aqui](http://www.ispdados.rj.gov.br/estatistica.html).\n",
        "\n"
      ]
    },
    {
      "cell_type": "markdown",
      "metadata": {
        "id": "7vh4at0l90nr",
        "colab_type": "text"
      },
      "source": [
        "### Importando os dados\n"
      ]
    },
    {
      "cell_type": "code",
      "metadata": {
        "id": "CYLNme_OCX_R",
        "colab_type": "code",
        "colab": {}
      },
      "source": [
        "# importando as bibliotecas que iremos utilizar\n",
        "import pandas as pd\n",
        "import numpy as np\n",
        "import matplotlib.pyplot as plt\n",
        "import seaborn as sns;\n",
        "\n",
        "# importando os dados e criando o DataFrame\n",
        "df = pd.read_csv('https://raw.githubusercontent.com/carlosfab/dsnp2/master/datasets/violencia_rio.csv')"
      ],
      "execution_count": 273,
      "outputs": []
    },
    {
      "cell_type": "markdown",
      "metadata": {
        "id": "qb5By2nIMS6m",
        "colab_type": "text"
      },
      "source": [
        "## Análise Inicial dos Dados\n",
        "\n",
        "Iremos realizar uma análise exploratoria no dados disponibilizados pelo **Governo do Estado do Rio de Janeiro** da base de dados da **Policia Militar do Estado do Rio de Janeiro** sobre o indice de criminalidade.\n",
        "\n",
        "A base de dados utilizada encontra-se neste link para acessa-la [Clique Aqui](http://www.ispdados.rj.gov.br/estatistica.html).\n",
        "\n",
        "E disponbilizado um painel interativo no site do **Governo do Estado do Rio de Janeiro** para acessa-lo [Clique aqui](http://www.ispvisualizacao.rj.gov.br/index.html)"
      ]
    },
    {
      "cell_type": "code",
      "metadata": {
        "id": "fr5y7La6-aKM",
        "colab_type": "code",
        "colab": {
          "base_uri": "https://localhost:8080/",
          "height": 72
        },
        "outputId": "6189c2ef-1351-4fae-9b14-4399115b4e2e"
      },
      "source": [
        "# analisando o tamanho do DataFrame\n",
        "print('Colunas e Linhas no DataFrame: ')\n",
        "print(f'{df.shape[1]} Colunas')\n",
        "print(f'{df.shape[0]} Linhas')"
      ],
      "execution_count": 274,
      "outputs": [
        {
          "output_type": "stream",
          "text": [
            "Colunas e Linhas no DataFrame: \n",
            "56 Colunas\n",
            "344 Linhas\n"
          ],
          "name": "stdout"
        }
      ]
    },
    {
      "cell_type": "markdown",
      "metadata": {
        "id": "eOkcUwF_-yyL",
        "colab_type": "text"
      },
      "source": [
        "Nosso DataFrame possui 344 Linhas e 56 Colunas"
      ]
    },
    {
      "cell_type": "code",
      "metadata": {
        "id": "7BV_6ACn-9u5",
        "colab_type": "code",
        "colab": {
          "base_uri": "https://localhost:8080/",
          "height": 348
        },
        "outputId": "edd7c2cf-48ca-4dfb-d7f8-7aa34354c57e"
      },
      "source": [
        "# imprimindo o nome das colunas presente no DataFrame\n",
        "print('Nome das Colunas Presente no DataFrame: ')\n",
        "df.columns"
      ],
      "execution_count": 275,
      "outputs": [
        {
          "output_type": "stream",
          "text": [
            "Nome das Colunas Presente no DataFrame: \n"
          ],
          "name": "stdout"
        },
        {
          "output_type": "execute_result",
          "data": {
            "text/plain": [
              "Index(['vano', 'mes', 'hom_doloso', 'lesao_corp_morte', 'latrocinio',\n",
              "       'hom_por_interv_policial', 'tentat_hom', 'lesao_corp_dolosa', 'estupro',\n",
              "       'hom_culposo', 'lesao_corp_culposa', 'roubo_comercio',\n",
              "       'roubo_residencia', 'roubo_veiculo', 'roubo_carga', 'roubo_transeunte',\n",
              "       'roubo_em_coletivo', 'roubo_banco', 'roubo_cx_eletronico',\n",
              "       'roubo_celular', 'roubo_conducao_saque', 'roubo_apos_saque',\n",
              "       'roubo_bicicleta', 'outros_roubos', 'total_roubos', 'furto_veiculos',\n",
              "       'furto_transeunte', 'furto_coletivo', 'furto_celular',\n",
              "       'furto_bicicleta', 'outros_furtos', 'total_furtos', 'sequestro',\n",
              "       'extorsao', 'sequestro_relampago', 'estelionato', 'apreensao_drogas',\n",
              "       'posse_drogas', 'trafico_drogas', 'apreensao_drogas_sem_autor',\n",
              "       'recuperacao_veiculos', 'apf', 'aaapai', 'cmp', 'cmba', 'ameaca',\n",
              "       'pessoas_desaparecidas', 'encontro_cadaver', 'encontro_ossada',\n",
              "       'pol_militares_mortos_serv', 'pol_civis_mortos_serv',\n",
              "       'indicador_letalidade', 'indicador_roubo_rua', 'indicador_roubo_veic',\n",
              "       'registro_ocorrencias', 'fase'],\n",
              "      dtype='object')"
            ]
          },
          "metadata": {
            "tags": []
          },
          "execution_count": 275
        }
      ]
    },
    {
      "cell_type": "code",
      "metadata": {
        "id": "NpNSmLi5_gKt",
        "colab_type": "code",
        "colab": {
          "base_uri": "https://localhost:8080/",
          "height": 1000
        },
        "outputId": "f1686b9e-a2fa-4d85-b0e6-0c6c3bb7d05b"
      },
      "source": [
        "# verificando os tipos das colunas presente no DataFrame\n",
        "print('Nome da coluna        \\t        Tipo')\n",
        "df.dtypes"
      ],
      "execution_count": 276,
      "outputs": [
        {
          "output_type": "stream",
          "text": [
            "Nome da coluna        \t        Tipo\n"
          ],
          "name": "stdout"
        },
        {
          "output_type": "execute_result",
          "data": {
            "text/plain": [
              "vano                            int64\n",
              "mes                             int64\n",
              "hom_doloso                      int64\n",
              "lesao_corp_morte              float64\n",
              "latrocinio                      int64\n",
              "hom_por_interv_policial       float64\n",
              "tentat_hom                      int64\n",
              "lesao_corp_dolosa               int64\n",
              "estupro                       float64\n",
              "hom_culposo                   float64\n",
              "lesao_corp_culposa            float64\n",
              "roubo_comercio                  int64\n",
              "roubo_residencia                int64\n",
              "roubo_veiculo                   int64\n",
              "roubo_carga                     int64\n",
              "roubo_transeunte                int64\n",
              "roubo_em_coletivo               int64\n",
              "roubo_banco                     int64\n",
              "roubo_cx_eletronico           float64\n",
              "roubo_celular                 float64\n",
              "roubo_conducao_saque          float64\n",
              "roubo_apos_saque              float64\n",
              "roubo_bicicleta               float64\n",
              "outros_roubos                   int64\n",
              "total_roubos                    int64\n",
              "furto_veiculos                  int64\n",
              "furto_transeunte                int64\n",
              "furto_coletivo                float64\n",
              "furto_celular                 float64\n",
              "furto_bicicleta               float64\n",
              "outros_furtos                   int64\n",
              "total_furtos                    int64\n",
              "sequestro                     float64\n",
              "extorsao                      float64\n",
              "sequestro_relampago           float64\n",
              "estelionato                   float64\n",
              "apreensao_drogas                int64\n",
              "posse_drogas                  float64\n",
              "trafico_drogas                float64\n",
              "apreensao_drogas_sem_autor    float64\n",
              "recuperacao_veiculos            int64\n",
              "apf                           float64\n",
              "aaapai                        float64\n",
              "cmp                           float64\n",
              "cmba                          float64\n",
              "ameaca                        float64\n",
              "pessoas_desaparecidas         float64\n",
              "encontro_cadaver                int64\n",
              "encontro_ossada               float64\n",
              "pol_militares_mortos_serv     float64\n",
              "pol_civis_mortos_serv         float64\n",
              "indicador_letalidade            int64\n",
              "indicador_roubo_rua             int64\n",
              "indicador_roubo_veic            int64\n",
              "registro_ocorrencias          float64\n",
              "fase                            int64\n",
              "dtype: object"
            ]
          },
          "metadata": {
            "tags": []
          },
          "execution_count": 276
        }
      ]
    },
    {
      "cell_type": "code",
      "metadata": {
        "id": "L6SML1HqBCFU",
        "colab_type": "code",
        "colab": {
          "base_uri": "https://localhost:8080/",
          "height": 90
        },
        "outputId": "b3e4247e-0c2a-410e-b43f-449558882cd0"
      },
      "source": [
        "# verificando a quantidade de cada tipo de coluna presente no DataFrame\n",
        "print('Tipo   \\t   Quantidade')\n",
        "df.dtypes.value_counts()"
      ],
      "execution_count": 277,
      "outputs": [
        {
          "output_type": "stream",
          "text": [
            "Tipo   \t   Quantidade\n"
          ],
          "name": "stdout"
        },
        {
          "output_type": "execute_result",
          "data": {
            "text/plain": [
              "float64    30\n",
              "int64      26\n",
              "dtype: int64"
            ]
          },
          "metadata": {
            "tags": []
          },
          "execution_count": 277
        }
      ]
    },
    {
      "cell_type": "markdown",
      "metadata": {
        "id": "6Hck5xqWAdf_",
        "colab_type": "text"
      },
      "source": [
        "O DataFrame possui 30 colunas do tipo **Decimal** e 26 colunas do tipo **Inteiro**"
      ]
    },
    {
      "cell_type": "code",
      "metadata": {
        "id": "HAtrz-oaBT4S",
        "colab_type": "code",
        "colab": {
          "base_uri": "https://localhost:8080/",
          "height": 226
        },
        "outputId": "cb46a0a9-bf49-48a8-d924-dee37f8a5ef9"
      },
      "source": [
        "# visualizando as 5 primeiras linhas do DataFrame\n",
        "df.head()"
      ],
      "execution_count": 278,
      "outputs": [
        {
          "output_type": "execute_result",
          "data": {
            "text/html": [
              "<div>\n",
              "<style scoped>\n",
              "    .dataframe tbody tr th:only-of-type {\n",
              "        vertical-align: middle;\n",
              "    }\n",
              "\n",
              "    .dataframe tbody tr th {\n",
              "        vertical-align: top;\n",
              "    }\n",
              "\n",
              "    .dataframe thead th {\n",
              "        text-align: right;\n",
              "    }\n",
              "</style>\n",
              "<table border=\"1\" class=\"dataframe\">\n",
              "  <thead>\n",
              "    <tr style=\"text-align: right;\">\n",
              "      <th></th>\n",
              "      <th>vano</th>\n",
              "      <th>mes</th>\n",
              "      <th>hom_doloso</th>\n",
              "      <th>lesao_corp_morte</th>\n",
              "      <th>latrocinio</th>\n",
              "      <th>hom_por_interv_policial</th>\n",
              "      <th>tentat_hom</th>\n",
              "      <th>lesao_corp_dolosa</th>\n",
              "      <th>estupro</th>\n",
              "      <th>hom_culposo</th>\n",
              "      <th>lesao_corp_culposa</th>\n",
              "      <th>roubo_comercio</th>\n",
              "      <th>roubo_residencia</th>\n",
              "      <th>roubo_veiculo</th>\n",
              "      <th>roubo_carga</th>\n",
              "      <th>roubo_transeunte</th>\n",
              "      <th>roubo_em_coletivo</th>\n",
              "      <th>roubo_banco</th>\n",
              "      <th>roubo_cx_eletronico</th>\n",
              "      <th>roubo_celular</th>\n",
              "      <th>roubo_conducao_saque</th>\n",
              "      <th>roubo_apos_saque</th>\n",
              "      <th>roubo_bicicleta</th>\n",
              "      <th>outros_roubos</th>\n",
              "      <th>total_roubos</th>\n",
              "      <th>furto_veiculos</th>\n",
              "      <th>furto_transeunte</th>\n",
              "      <th>furto_coletivo</th>\n",
              "      <th>furto_celular</th>\n",
              "      <th>furto_bicicleta</th>\n",
              "      <th>outros_furtos</th>\n",
              "      <th>total_furtos</th>\n",
              "      <th>sequestro</th>\n",
              "      <th>extorsao</th>\n",
              "      <th>sequestro_relampago</th>\n",
              "      <th>estelionato</th>\n",
              "      <th>apreensao_drogas</th>\n",
              "      <th>posse_drogas</th>\n",
              "      <th>trafico_drogas</th>\n",
              "      <th>apreensao_drogas_sem_autor</th>\n",
              "      <th>recuperacao_veiculos</th>\n",
              "      <th>apf</th>\n",
              "      <th>aaapai</th>\n",
              "      <th>cmp</th>\n",
              "      <th>cmba</th>\n",
              "      <th>ameaca</th>\n",
              "      <th>pessoas_desaparecidas</th>\n",
              "      <th>encontro_cadaver</th>\n",
              "      <th>encontro_ossada</th>\n",
              "      <th>pol_militares_mortos_serv</th>\n",
              "      <th>pol_civis_mortos_serv</th>\n",
              "      <th>indicador_letalidade</th>\n",
              "      <th>indicador_roubo_rua</th>\n",
              "      <th>indicador_roubo_veic</th>\n",
              "      <th>registro_ocorrencias</th>\n",
              "      <th>fase</th>\n",
              "    </tr>\n",
              "  </thead>\n",
              "  <tbody>\n",
              "    <tr>\n",
              "      <th>0</th>\n",
              "      <td>1991</td>\n",
              "      <td>1</td>\n",
              "      <td>657</td>\n",
              "      <td>NaN</td>\n",
              "      <td>15</td>\n",
              "      <td>NaN</td>\n",
              "      <td>162</td>\n",
              "      <td>3051</td>\n",
              "      <td>NaN</td>\n",
              "      <td>NaN</td>\n",
              "      <td>NaN</td>\n",
              "      <td>350</td>\n",
              "      <td>188</td>\n",
              "      <td>1174</td>\n",
              "      <td>63</td>\n",
              "      <td>967</td>\n",
              "      <td>381</td>\n",
              "      <td>37</td>\n",
              "      <td>NaN</td>\n",
              "      <td>NaN</td>\n",
              "      <td>NaN</td>\n",
              "      <td>NaN</td>\n",
              "      <td>NaN</td>\n",
              "      <td>158</td>\n",
              "      <td>3318</td>\n",
              "      <td>2009</td>\n",
              "      <td>1147</td>\n",
              "      <td>NaN</td>\n",
              "      <td>NaN</td>\n",
              "      <td>NaN</td>\n",
              "      <td>3561</td>\n",
              "      <td>6717</td>\n",
              "      <td>NaN</td>\n",
              "      <td>NaN</td>\n",
              "      <td>NaN</td>\n",
              "      <td>NaN</td>\n",
              "      <td>133</td>\n",
              "      <td>NaN</td>\n",
              "      <td>NaN</td>\n",
              "      <td>NaN</td>\n",
              "      <td>872</td>\n",
              "      <td>NaN</td>\n",
              "      <td>NaN</td>\n",
              "      <td>NaN</td>\n",
              "      <td>NaN</td>\n",
              "      <td>NaN</td>\n",
              "      <td>NaN</td>\n",
              "      <td>217</td>\n",
              "      <td>NaN</td>\n",
              "      <td>NaN</td>\n",
              "      <td>NaN</td>\n",
              "      <td>672</td>\n",
              "      <td>1348</td>\n",
              "      <td>1174</td>\n",
              "      <td>NaN</td>\n",
              "      <td>3</td>\n",
              "    </tr>\n",
              "    <tr>\n",
              "      <th>1</th>\n",
              "      <td>1991</td>\n",
              "      <td>2</td>\n",
              "      <td>732</td>\n",
              "      <td>NaN</td>\n",
              "      <td>17</td>\n",
              "      <td>NaN</td>\n",
              "      <td>175</td>\n",
              "      <td>3421</td>\n",
              "      <td>NaN</td>\n",
              "      <td>NaN</td>\n",
              "      <td>NaN</td>\n",
              "      <td>357</td>\n",
              "      <td>171</td>\n",
              "      <td>1097</td>\n",
              "      <td>64</td>\n",
              "      <td>963</td>\n",
              "      <td>432</td>\n",
              "      <td>35</td>\n",
              "      <td>NaN</td>\n",
              "      <td>NaN</td>\n",
              "      <td>NaN</td>\n",
              "      <td>NaN</td>\n",
              "      <td>NaN</td>\n",
              "      <td>142</td>\n",
              "      <td>3261</td>\n",
              "      <td>1850</td>\n",
              "      <td>1066</td>\n",
              "      <td>NaN</td>\n",
              "      <td>NaN</td>\n",
              "      <td>NaN</td>\n",
              "      <td>3309</td>\n",
              "      <td>6225</td>\n",
              "      <td>NaN</td>\n",
              "      <td>NaN</td>\n",
              "      <td>NaN</td>\n",
              "      <td>NaN</td>\n",
              "      <td>127</td>\n",
              "      <td>NaN</td>\n",
              "      <td>NaN</td>\n",
              "      <td>NaN</td>\n",
              "      <td>751</td>\n",
              "      <td>NaN</td>\n",
              "      <td>NaN</td>\n",
              "      <td>NaN</td>\n",
              "      <td>NaN</td>\n",
              "      <td>NaN</td>\n",
              "      <td>NaN</td>\n",
              "      <td>209</td>\n",
              "      <td>NaN</td>\n",
              "      <td>NaN</td>\n",
              "      <td>NaN</td>\n",
              "      <td>749</td>\n",
              "      <td>1395</td>\n",
              "      <td>1097</td>\n",
              "      <td>NaN</td>\n",
              "      <td>3</td>\n",
              "    </tr>\n",
              "    <tr>\n",
              "      <th>2</th>\n",
              "      <td>1991</td>\n",
              "      <td>3</td>\n",
              "      <td>713</td>\n",
              "      <td>NaN</td>\n",
              "      <td>25</td>\n",
              "      <td>NaN</td>\n",
              "      <td>216</td>\n",
              "      <td>3613</td>\n",
              "      <td>NaN</td>\n",
              "      <td>NaN</td>\n",
              "      <td>NaN</td>\n",
              "      <td>443</td>\n",
              "      <td>191</td>\n",
              "      <td>1265</td>\n",
              "      <td>71</td>\n",
              "      <td>963</td>\n",
              "      <td>422</td>\n",
              "      <td>43</td>\n",
              "      <td>NaN</td>\n",
              "      <td>NaN</td>\n",
              "      <td>NaN</td>\n",
              "      <td>NaN</td>\n",
              "      <td>NaN</td>\n",
              "      <td>131</td>\n",
              "      <td>3529</td>\n",
              "      <td>2084</td>\n",
              "      <td>1062</td>\n",
              "      <td>NaN</td>\n",
              "      <td>NaN</td>\n",
              "      <td>NaN</td>\n",
              "      <td>3573</td>\n",
              "      <td>6719</td>\n",
              "      <td>NaN</td>\n",
              "      <td>NaN</td>\n",
              "      <td>NaN</td>\n",
              "      <td>NaN</td>\n",
              "      <td>80</td>\n",
              "      <td>NaN</td>\n",
              "      <td>NaN</td>\n",
              "      <td>NaN</td>\n",
              "      <td>789</td>\n",
              "      <td>NaN</td>\n",
              "      <td>NaN</td>\n",
              "      <td>NaN</td>\n",
              "      <td>NaN</td>\n",
              "      <td>NaN</td>\n",
              "      <td>NaN</td>\n",
              "      <td>188</td>\n",
              "      <td>NaN</td>\n",
              "      <td>NaN</td>\n",
              "      <td>NaN</td>\n",
              "      <td>738</td>\n",
              "      <td>1385</td>\n",
              "      <td>1265</td>\n",
              "      <td>NaN</td>\n",
              "      <td>3</td>\n",
              "    </tr>\n",
              "    <tr>\n",
              "      <th>3</th>\n",
              "      <td>1991</td>\n",
              "      <td>4</td>\n",
              "      <td>634</td>\n",
              "      <td>NaN</td>\n",
              "      <td>20</td>\n",
              "      <td>NaN</td>\n",
              "      <td>200</td>\n",
              "      <td>3211</td>\n",
              "      <td>NaN</td>\n",
              "      <td>NaN</td>\n",
              "      <td>NaN</td>\n",
              "      <td>425</td>\n",
              "      <td>199</td>\n",
              "      <td>1415</td>\n",
              "      <td>81</td>\n",
              "      <td>1186</td>\n",
              "      <td>354</td>\n",
              "      <td>36</td>\n",
              "      <td>NaN</td>\n",
              "      <td>NaN</td>\n",
              "      <td>NaN</td>\n",
              "      <td>NaN</td>\n",
              "      <td>NaN</td>\n",
              "      <td>112</td>\n",
              "      <td>3808</td>\n",
              "      <td>2085</td>\n",
              "      <td>1195</td>\n",
              "      <td>NaN</td>\n",
              "      <td>NaN</td>\n",
              "      <td>NaN</td>\n",
              "      <td>3290</td>\n",
              "      <td>6570</td>\n",
              "      <td>NaN</td>\n",
              "      <td>NaN</td>\n",
              "      <td>NaN</td>\n",
              "      <td>NaN</td>\n",
              "      <td>133</td>\n",
              "      <td>NaN</td>\n",
              "      <td>NaN</td>\n",
              "      <td>NaN</td>\n",
              "      <td>787</td>\n",
              "      <td>NaN</td>\n",
              "      <td>NaN</td>\n",
              "      <td>NaN</td>\n",
              "      <td>NaN</td>\n",
              "      <td>NaN</td>\n",
              "      <td>NaN</td>\n",
              "      <td>140</td>\n",
              "      <td>NaN</td>\n",
              "      <td>NaN</td>\n",
              "      <td>NaN</td>\n",
              "      <td>654</td>\n",
              "      <td>1540</td>\n",
              "      <td>1415</td>\n",
              "      <td>NaN</td>\n",
              "      <td>3</td>\n",
              "    </tr>\n",
              "    <tr>\n",
              "      <th>4</th>\n",
              "      <td>1991</td>\n",
              "      <td>5</td>\n",
              "      <td>650</td>\n",
              "      <td>NaN</td>\n",
              "      <td>20</td>\n",
              "      <td>NaN</td>\n",
              "      <td>146</td>\n",
              "      <td>3051</td>\n",
              "      <td>NaN</td>\n",
              "      <td>NaN</td>\n",
              "      <td>NaN</td>\n",
              "      <td>553</td>\n",
              "      <td>231</td>\n",
              "      <td>1449</td>\n",
              "      <td>82</td>\n",
              "      <td>931</td>\n",
              "      <td>335</td>\n",
              "      <td>27</td>\n",
              "      <td>NaN</td>\n",
              "      <td>NaN</td>\n",
              "      <td>NaN</td>\n",
              "      <td>NaN</td>\n",
              "      <td>NaN</td>\n",
              "      <td>147</td>\n",
              "      <td>3755</td>\n",
              "      <td>2185</td>\n",
              "      <td>723</td>\n",
              "      <td>NaN</td>\n",
              "      <td>NaN</td>\n",
              "      <td>NaN</td>\n",
              "      <td>3546</td>\n",
              "      <td>6454</td>\n",
              "      <td>NaN</td>\n",
              "      <td>NaN</td>\n",
              "      <td>NaN</td>\n",
              "      <td>NaN</td>\n",
              "      <td>163</td>\n",
              "      <td>NaN</td>\n",
              "      <td>NaN</td>\n",
              "      <td>NaN</td>\n",
              "      <td>845</td>\n",
              "      <td>NaN</td>\n",
              "      <td>NaN</td>\n",
              "      <td>NaN</td>\n",
              "      <td>NaN</td>\n",
              "      <td>NaN</td>\n",
              "      <td>NaN</td>\n",
              "      <td>78</td>\n",
              "      <td>NaN</td>\n",
              "      <td>NaN</td>\n",
              "      <td>NaN</td>\n",
              "      <td>670</td>\n",
              "      <td>1266</td>\n",
              "      <td>1449</td>\n",
              "      <td>NaN</td>\n",
              "      <td>3</td>\n",
              "    </tr>\n",
              "  </tbody>\n",
              "</table>\n",
              "</div>"
            ],
            "text/plain": [
              "   vano  mes  hom_doloso  ...  indicador_roubo_veic  registro_ocorrencias  fase\n",
              "0  1991    1         657  ...                  1174                   NaN     3\n",
              "1  1991    2         732  ...                  1097                   NaN     3\n",
              "2  1991    3         713  ...                  1265                   NaN     3\n",
              "3  1991    4         634  ...                  1415                   NaN     3\n",
              "4  1991    5         650  ...                  1449                   NaN     3\n",
              "\n",
              "[5 rows x 56 columns]"
            ]
          },
          "metadata": {
            "tags": []
          },
          "execution_count": 278
        }
      ]
    },
    {
      "cell_type": "markdown",
      "metadata": {
        "id": "FYTvAmL5v5Me",
        "colab_type": "text"
      },
      "source": [
        "Podemos notar a presença de valores ausentes no DataFrame"
      ]
    },
    {
      "cell_type": "code",
      "metadata": {
        "id": "0BBKJOMaBfRx",
        "colab_type": "code",
        "colab": {
          "base_uri": "https://localhost:8080/",
          "height": 1000
        },
        "outputId": "088fd164-7125-495e-9d6c-e4c97915117c"
      },
      "source": [
        "# verificando a presença de dados ausentes no DataFrame\n",
        "print('Colunas         \\t      Porcentagem')\n",
        "(df.isnull().sum() / df.shape[0]).sort_values(ascending=False)"
      ],
      "execution_count": 279,
      "outputs": [
        {
          "output_type": "stream",
          "text": [
            "Colunas         \t      Porcentagem\n"
          ],
          "name": "stdout"
        },
        {
          "output_type": "execute_result",
          "data": {
            "text/plain": [
              "roubo_bicicleta               0.802326\n",
              "furto_bicicleta               0.802326\n",
              "apreensao_drogas_sem_autor    0.523256\n",
              "posse_drogas                  0.523256\n",
              "apf                           0.523256\n",
              "aaapai                        0.523256\n",
              "cmp                           0.523256\n",
              "trafico_drogas                0.523256\n",
              "cmba                          0.523256\n",
              "sequestro_relampago           0.418605\n",
              "furto_coletivo                0.418605\n",
              "extorsao                      0.418605\n",
              "furto_celular                 0.418605\n",
              "roubo_apos_saque              0.418605\n",
              "roubo_conducao_saque          0.418605\n",
              "roubo_cx_eletronico           0.418605\n",
              "estupro                       0.418605\n",
              "estelionato                   0.418605\n",
              "pol_civis_mortos_serv         0.418605\n",
              "pol_militares_mortos_serv     0.418605\n",
              "pessoas_desaparecidas         0.383721\n",
              "encontro_ossada               0.383721\n",
              "roubo_celular                 0.313953\n",
              "lesao_corp_culposa            0.279070\n",
              "ameaca                        0.279070\n",
              "sequestro                     0.279070\n",
              "lesao_corp_morte              0.279070\n",
              "registro_ocorrencias          0.279070\n",
              "hom_por_interv_policial       0.244186\n",
              "hom_culposo                   0.244186\n",
              "tentat_hom                    0.000000\n",
              "roubo_comercio                0.000000\n",
              "roubo_residencia              0.000000\n",
              "latrocinio                    0.000000\n",
              "lesao_corp_dolosa             0.000000\n",
              "hom_doloso                    0.000000\n",
              "roubo_transeunte              0.000000\n",
              "mes                           0.000000\n",
              "roubo_veiculo                 0.000000\n",
              "roubo_carga                   0.000000\n",
              "fase                          0.000000\n",
              "roubo_em_coletivo             0.000000\n",
              "roubo_banco                   0.000000\n",
              "outros_roubos                 0.000000\n",
              "total_roubos                  0.000000\n",
              "furto_veiculos                0.000000\n",
              "furto_transeunte              0.000000\n",
              "outros_furtos                 0.000000\n",
              "total_furtos                  0.000000\n",
              "apreensao_drogas              0.000000\n",
              "recuperacao_veiculos          0.000000\n",
              "encontro_cadaver              0.000000\n",
              "indicador_letalidade          0.000000\n",
              "indicador_roubo_rua           0.000000\n",
              "indicador_roubo_veic          0.000000\n",
              "vano                          0.000000\n",
              "dtype: float64"
            ]
          },
          "metadata": {
            "tags": []
          },
          "execution_count": 279
        }
      ]
    },
    {
      "cell_type": "markdown",
      "metadata": {
        "id": "GAGB7xrFD1fI",
        "colab_type": "text"
      },
      "source": [
        "O Nosso DataFrame possui muitas colunas com dados ausentes ou nulos sento elas:\n",
        "* roubo_bicicleta e furto_bicicleta  com 80% dos dados ausentes\n",
        "* apreensao_drogas_sem_autor, posse_drogas, apf, aaapai,cmp, trafico_drogas, cmba com 52% dos dados ausentes\n",
        "* sequestro_relampago, furto_coletivo, extorsao,furto_celular, roubo_apos_saque, roubo_conducao_saque, roubo_cx_eletronico, estupro, estelionato, pol_civis_mortos_serv, pol_militares_mortos_serv dos dados ausentes 41%\n",
        "* pessoas_desaparecidas e encontro_ossada com 38% dos dados ausentes\n",
        "* roubo_celular com 31% dos dados ausentes\n",
        "* lesao_corp_culposa, ameaca, sequestro, lesao_corp_morte, registro_ocorrencias com 27% dos dados ausentes\n",
        "* hom_por_interv_policial e hom_culposo com 24% dos dados ausentes\n",
        "\n",
        "Iremos remover as colunas com dados ausentes do DateFrame pois utilizaremos os indeces completos para uma melhor análise exploratoria.\n"
      ]
    },
    {
      "cell_type": "code",
      "metadata": {
        "id": "n7CdROjLGF0b",
        "colab_type": "code",
        "colab": {}
      },
      "source": [
        "# removendo colunas com dados ausentes ou nulos\n",
        "df_clear = df.dropna(axis=1)"
      ],
      "execution_count": 280,
      "outputs": []
    },
    {
      "cell_type": "code",
      "metadata": {
        "id": "7156zOgzHcL9",
        "colab_type": "code",
        "colab": {
          "base_uri": "https://localhost:8080/",
          "height": 531
        },
        "outputId": "773c1650-ab21-4a41-fa8e-2949265d5ba0"
      },
      "source": [
        "# verificando se a colunas com valores ausentes foram removidas\n",
        "print('Colunas \\t Numero de dados ausentes')\n",
        "df_clear.isnull().sum()"
      ],
      "execution_count": 281,
      "outputs": [
        {
          "output_type": "stream",
          "text": [
            "Colunas \t Numero de dados ausentes\n"
          ],
          "name": "stdout"
        },
        {
          "output_type": "execute_result",
          "data": {
            "text/plain": [
              "vano                    0\n",
              "mes                     0\n",
              "hom_doloso              0\n",
              "latrocinio              0\n",
              "tentat_hom              0\n",
              "lesao_corp_dolosa       0\n",
              "roubo_comercio          0\n",
              "roubo_residencia        0\n",
              "roubo_veiculo           0\n",
              "roubo_carga             0\n",
              "roubo_transeunte        0\n",
              "roubo_em_coletivo       0\n",
              "roubo_banco             0\n",
              "outros_roubos           0\n",
              "total_roubos            0\n",
              "furto_veiculos          0\n",
              "furto_transeunte        0\n",
              "outros_furtos           0\n",
              "total_furtos            0\n",
              "apreensao_drogas        0\n",
              "recuperacao_veiculos    0\n",
              "encontro_cadaver        0\n",
              "indicador_letalidade    0\n",
              "indicador_roubo_rua     0\n",
              "indicador_roubo_veic    0\n",
              "fase                    0\n",
              "dtype: int64"
            ]
          },
          "metadata": {
            "tags": []
          },
          "execution_count": 281
        }
      ]
    },
    {
      "cell_type": "markdown",
      "metadata": {
        "id": "0yQneJQRQD7h",
        "colab_type": "text"
      },
      "source": [
        "Agora com o DataFrame sem valores nulos ou ausentes iremos proseguir com a analise."
      ]
    },
    {
      "cell_type": "markdown",
      "metadata": {
        "id": "G6dnsNYm-41g",
        "colab_type": "text"
      },
      "source": [
        "## Informações Estatísticas da Violência no Rio de Janeiro\n",
        "\n",
        "Analisaremos os indices de roubo, furto e recuperação de veiculos os indeces de homicidios dolosos no estado, descobrindo o media de cada indece, a porcentagem de veiculos recuperados em relação a quantidade de veiculos roubados e furtados e o maior e menor numero registrador de homicidio ocorrido no periodo(mensal).\n"
      ]
    },
    {
      "cell_type": "markdown",
      "metadata": {
        "id": "qy2KsrBPTrDC",
        "colab_type": "text"
      },
      "source": [
        "Visualizando o resumo estatistico de cada coluna obtendo os valores totais do periodo."
      ]
    },
    {
      "cell_type": "code",
      "metadata": {
        "id": "PowxGYZwQUJg",
        "colab_type": "code",
        "colab": {
          "base_uri": "https://localhost:8080/",
          "height": 320
        },
        "outputId": "400cc6d3-ef07-4637-be6d-7baf53c11106"
      },
      "source": [
        "# visualizando o resumo estatístico do DataFrame\n",
        "df_clear.describe()"
      ],
      "execution_count": 282,
      "outputs": [
        {
          "output_type": "execute_result",
          "data": {
            "text/html": [
              "<div>\n",
              "<style scoped>\n",
              "    .dataframe tbody tr th:only-of-type {\n",
              "        vertical-align: middle;\n",
              "    }\n",
              "\n",
              "    .dataframe tbody tr th {\n",
              "        vertical-align: top;\n",
              "    }\n",
              "\n",
              "    .dataframe thead th {\n",
              "        text-align: right;\n",
              "    }\n",
              "</style>\n",
              "<table border=\"1\" class=\"dataframe\">\n",
              "  <thead>\n",
              "    <tr style=\"text-align: right;\">\n",
              "      <th></th>\n",
              "      <th>vano</th>\n",
              "      <th>mes</th>\n",
              "      <th>hom_doloso</th>\n",
              "      <th>latrocinio</th>\n",
              "      <th>tentat_hom</th>\n",
              "      <th>lesao_corp_dolosa</th>\n",
              "      <th>roubo_comercio</th>\n",
              "      <th>roubo_residencia</th>\n",
              "      <th>roubo_veiculo</th>\n",
              "      <th>roubo_carga</th>\n",
              "      <th>roubo_transeunte</th>\n",
              "      <th>roubo_em_coletivo</th>\n",
              "      <th>roubo_banco</th>\n",
              "      <th>outros_roubos</th>\n",
              "      <th>total_roubos</th>\n",
              "      <th>furto_veiculos</th>\n",
              "      <th>furto_transeunte</th>\n",
              "      <th>outros_furtos</th>\n",
              "      <th>total_furtos</th>\n",
              "      <th>apreensao_drogas</th>\n",
              "      <th>recuperacao_veiculos</th>\n",
              "      <th>encontro_cadaver</th>\n",
              "      <th>indicador_letalidade</th>\n",
              "      <th>indicador_roubo_rua</th>\n",
              "      <th>indicador_roubo_veic</th>\n",
              "      <th>fase</th>\n",
              "    </tr>\n",
              "  </thead>\n",
              "  <tbody>\n",
              "    <tr>\n",
              "      <th>count</th>\n",
              "      <td>344.000000</td>\n",
              "      <td>344.000000</td>\n",
              "      <td>344.000000</td>\n",
              "      <td>344.000000</td>\n",
              "      <td>344.000000</td>\n",
              "      <td>344.000000</td>\n",
              "      <td>344.000000</td>\n",
              "      <td>344.000000</td>\n",
              "      <td>344.000000</td>\n",
              "      <td>344.000000</td>\n",
              "      <td>344.000000</td>\n",
              "      <td>344.000000</td>\n",
              "      <td>344.000000</td>\n",
              "      <td>344.000000</td>\n",
              "      <td>344.000000</td>\n",
              "      <td>344.000000</td>\n",
              "      <td>344.000000</td>\n",
              "      <td>344.000000</td>\n",
              "      <td>344.000000</td>\n",
              "      <td>344.000000</td>\n",
              "      <td>344.000000</td>\n",
              "      <td>344.000000</td>\n",
              "      <td>344.000000</td>\n",
              "      <td>344.000000</td>\n",
              "      <td>344.000000</td>\n",
              "      <td>344.000000</td>\n",
              "    </tr>\n",
              "    <tr>\n",
              "      <th>mean</th>\n",
              "      <td>2004.837209</td>\n",
              "      <td>6.453488</td>\n",
              "      <td>504.555233</td>\n",
              "      <td>15.668605</td>\n",
              "      <td>318.267442</td>\n",
              "      <td>5492.799419</td>\n",
              "      <td>455.005814</td>\n",
              "      <td>133.284884</td>\n",
              "      <td>2448.697674</td>\n",
              "      <td>340.322674</td>\n",
              "      <td>3418.520349</td>\n",
              "      <td>659.002907</td>\n",
              "      <td>9.375000</td>\n",
              "      <td>1211.223837</td>\n",
              "      <td>9428.119186</td>\n",
              "      <td>1674.671512</td>\n",
              "      <td>1518.921512</td>\n",
              "      <td>5994.328488</td>\n",
              "      <td>10433.177326</td>\n",
              "      <td>1071.930233</td>\n",
              "      <td>1772.238372</td>\n",
              "      <td>66.261628</td>\n",
              "      <td>577.691860</td>\n",
              "      <td>4734.738372</td>\n",
              "      <td>2448.697674</td>\n",
              "      <td>2.994186</td>\n",
              "    </tr>\n",
              "    <tr>\n",
              "      <th>std</th>\n",
              "      <td>8.289036</td>\n",
              "      <td>3.447759</td>\n",
              "      <td>113.774481</td>\n",
              "      <td>5.861427</td>\n",
              "      <td>127.606645</td>\n",
              "      <td>1514.220579</td>\n",
              "      <td>119.765076</td>\n",
              "      <td>44.317963</td>\n",
              "      <td>789.689559</td>\n",
              "      <td>223.855243</td>\n",
              "      <td>2459.017549</td>\n",
              "      <td>297.622342</td>\n",
              "      <td>10.564894</td>\n",
              "      <td>800.576723</td>\n",
              "      <td>4578.013053</td>\n",
              "      <td>294.852020</td>\n",
              "      <td>971.853102</td>\n",
              "      <td>1964.767779</td>\n",
              "      <td>3696.725756</td>\n",
              "      <td>643.381991</td>\n",
              "      <td>656.761843</td>\n",
              "      <td>34.464519</td>\n",
              "      <td>104.973929</td>\n",
              "      <td>3204.054864</td>\n",
              "      <td>789.689559</td>\n",
              "      <td>0.076138</td>\n",
              "    </tr>\n",
              "    <tr>\n",
              "      <th>min</th>\n",
              "      <td>1991.000000</td>\n",
              "      <td>1.000000</td>\n",
              "      <td>272.000000</td>\n",
              "      <td>2.000000</td>\n",
              "      <td>122.000000</td>\n",
              "      <td>2350.000000</td>\n",
              "      <td>243.000000</td>\n",
              "      <td>49.000000</td>\n",
              "      <td>1097.000000</td>\n",
              "      <td>59.000000</td>\n",
              "      <td>688.000000</td>\n",
              "      <td>281.000000</td>\n",
              "      <td>0.000000</td>\n",
              "      <td>81.000000</td>\n",
              "      <td>3261.000000</td>\n",
              "      <td>1159.000000</td>\n",
              "      <td>322.000000</td>\n",
              "      <td>2322.000000</td>\n",
              "      <td>4691.000000</td>\n",
              "      <td>80.000000</td>\n",
              "      <td>729.000000</td>\n",
              "      <td>0.000000</td>\n",
              "      <td>334.000000</td>\n",
              "      <td>1086.000000</td>\n",
              "      <td>1097.000000</td>\n",
              "      <td>2.000000</td>\n",
              "    </tr>\n",
              "    <tr>\n",
              "      <th>25%</th>\n",
              "      <td>1998.000000</td>\n",
              "      <td>3.000000</td>\n",
              "      <td>413.750000</td>\n",
              "      <td>11.000000</td>\n",
              "      <td>200.000000</td>\n",
              "      <td>4067.000000</td>\n",
              "      <td>365.750000</td>\n",
              "      <td>103.750000</td>\n",
              "      <td>1889.750000</td>\n",
              "      <td>208.250000</td>\n",
              "      <td>1053.000000</td>\n",
              "      <td>430.750000</td>\n",
              "      <td>2.000000</td>\n",
              "      <td>811.750000</td>\n",
              "      <td>5107.750000</td>\n",
              "      <td>1430.500000</td>\n",
              "      <td>732.000000</td>\n",
              "      <td>3978.000000</td>\n",
              "      <td>6700.250000</td>\n",
              "      <td>714.500000</td>\n",
              "      <td>1276.750000</td>\n",
              "      <td>42.000000</td>\n",
              "      <td>500.000000</td>\n",
              "      <td>1557.000000</td>\n",
              "      <td>1889.750000</td>\n",
              "      <td>3.000000</td>\n",
              "    </tr>\n",
              "    <tr>\n",
              "      <th>50%</th>\n",
              "      <td>2005.000000</td>\n",
              "      <td>6.000000</td>\n",
              "      <td>507.000000</td>\n",
              "      <td>15.000000</td>\n",
              "      <td>318.500000</td>\n",
              "      <td>5830.500000</td>\n",
              "      <td>433.500000</td>\n",
              "      <td>125.000000</td>\n",
              "      <td>2322.000000</td>\n",
              "      <td>285.500000</td>\n",
              "      <td>2788.500000</td>\n",
              "      <td>592.000000</td>\n",
              "      <td>4.500000</td>\n",
              "      <td>1154.000000</td>\n",
              "      <td>9243.500000</td>\n",
              "      <td>1637.500000</td>\n",
              "      <td>1076.500000</td>\n",
              "      <td>6559.000000</td>\n",
              "      <td>10448.500000</td>\n",
              "      <td>979.500000</td>\n",
              "      <td>1755.000000</td>\n",
              "      <td>60.500000</td>\n",
              "      <td>590.000000</td>\n",
              "      <td>4190.000000</td>\n",
              "      <td>2322.000000</td>\n",
              "      <td>3.000000</td>\n",
              "    </tr>\n",
              "    <tr>\n",
              "      <th>75%</th>\n",
              "      <td>2012.000000</td>\n",
              "      <td>9.000000</td>\n",
              "      <td>577.250000</td>\n",
              "      <td>19.000000</td>\n",
              "      <td>398.250000</td>\n",
              "      <td>6582.500000</td>\n",
              "      <td>536.250000</td>\n",
              "      <td>151.250000</td>\n",
              "      <td>2778.000000</td>\n",
              "      <td>401.250000</td>\n",
              "      <td>5385.250000</td>\n",
              "      <td>784.000000</td>\n",
              "      <td>14.000000</td>\n",
              "      <td>1635.000000</td>\n",
              "      <td>11590.500000</td>\n",
              "      <td>1833.250000</td>\n",
              "      <td>2334.250000</td>\n",
              "      <td>7601.500000</td>\n",
              "      <td>13877.500000</td>\n",
              "      <td>1546.000000</td>\n",
              "      <td>2202.000000</td>\n",
              "      <td>87.000000</td>\n",
              "      <td>649.000000</td>\n",
              "      <td>6872.750000</td>\n",
              "      <td>2778.000000</td>\n",
              "      <td>3.000000</td>\n",
              "    </tr>\n",
              "    <tr>\n",
              "      <th>max</th>\n",
              "      <td>2019.000000</td>\n",
              "      <td>12.000000</td>\n",
              "      <td>831.000000</td>\n",
              "      <td>36.000000</td>\n",
              "      <td>645.000000</td>\n",
              "      <td>9050.000000</td>\n",
              "      <td>914.000000</td>\n",
              "      <td>300.000000</td>\n",
              "      <td>5358.000000</td>\n",
              "      <td>1329.000000</td>\n",
              "      <td>9669.000000</td>\n",
              "      <td>1628.000000</td>\n",
              "      <td>54.000000</td>\n",
              "      <td>3661.000000</td>\n",
              "      <td>23203.000000</td>\n",
              "      <td>2630.000000</td>\n",
              "      <td>5368.000000</td>\n",
              "      <td>9880.000000</td>\n",
              "      <td>18003.000000</td>\n",
              "      <td>2543.000000</td>\n",
              "      <td>3695.000000</td>\n",
              "      <td>217.000000</td>\n",
              "      <td>848.000000</td>\n",
              "      <td>13833.000000</td>\n",
              "      <td>5358.000000</td>\n",
              "      <td>3.000000</td>\n",
              "    </tr>\n",
              "  </tbody>\n",
              "</table>\n",
              "</div>"
            ],
            "text/plain": [
              "              vano         mes  ...  indicador_roubo_veic        fase\n",
              "count   344.000000  344.000000  ...            344.000000  344.000000\n",
              "mean   2004.837209    6.453488  ...           2448.697674    2.994186\n",
              "std       8.289036    3.447759  ...            789.689559    0.076138\n",
              "min    1991.000000    1.000000  ...           1097.000000    2.000000\n",
              "25%    1998.000000    3.000000  ...           1889.750000    3.000000\n",
              "50%    2005.000000    6.000000  ...           2322.000000    3.000000\n",
              "75%    2012.000000    9.000000  ...           2778.000000    3.000000\n",
              "max    2019.000000   12.000000  ...           5358.000000    3.000000\n",
              "\n",
              "[8 rows x 26 columns]"
            ]
          },
          "metadata": {
            "tags": []
          },
          "execution_count": 282
        }
      ]
    },
    {
      "cell_type": "markdown",
      "metadata": {
        "id": "IP9glGXgQ62R",
        "colab_type": "text"
      },
      "source": [
        "Iremos analisar a media dos veiculos roubados, furtados e recuperados no **Estado do Rio de Janeiro**."
      ]
    },
    {
      "cell_type": "code",
      "metadata": {
        "id": "uOVTjE-TQ3kq",
        "colab_type": "code",
        "colab": {
          "base_uri": "https://localhost:8080/",
          "height": 72
        },
        "outputId": "e2b3b278-b5f9-4a5b-9a99-2b728b17df74"
      },
      "source": [
        "# visualizando a media de veiculos Roubados, furtados e recuperados\n",
        "print(f'Media de Veiculos Roubados: {df_clear.roubo_veiculo.mean():.2f} veiculos')\n",
        "print(f'Media de Veiculos Furtados: {df_clear.furto_veiculos.mean():.2f} veiculos')\n",
        "print(f'Media de Veiculos Recuperados: {df_clear.recuperacao_veiculos.mean():.2f} veiculos')\n",
        "\n"
      ],
      "execution_count": 283,
      "outputs": [
        {
          "output_type": "stream",
          "text": [
            "Media de Veiculos Roubados: 2448.70 veiculos\n",
            "Media de Veiculos Furtados: 1674.67 veiculos\n",
            "Media de Veiculos Recuperados: 1772.24 veiculos\n"
          ],
          "name": "stdout"
        }
      ]
    },
    {
      "cell_type": "markdown",
      "metadata": {
        "id": "oH0Pqxe5QvOv",
        "colab_type": "text"
      },
      "source": [
        "Calculando a porcentagem de veiculos recuperados em relação a porcentagem de veiculos roubados mais veiculos furtados utilizando o numero total de cada coluna.\n",
        "* $\\frac{\\text{veiculos recuperados}}{\\text{veiculos roubados} + \\text{veiculos furtados}}$"
      ]
    },
    {
      "cell_type": "code",
      "metadata": {
        "id": "x_Rj7D8WPG_b",
        "colab_type": "code",
        "colab": {
          "base_uri": "https://localhost:8080/",
          "height": 54
        },
        "outputId": "dfa06633-c413-475e-da8d-6b1fd2c58535"
      },
      "source": [
        "# visualizando a porcentagem de veiculos recuperados em relação a quantidade veiculos roubados e furtados.\n",
        "roubo = df_clear.roubo_veiculo.sum()\n",
        "furto = df_clear.furto_veiculos.sum()\n",
        "recuperados = df_clear.recuperacao_veiculos.sum()\n",
        "\n",
        "print('A porcentegem de veiculos recuperados em relação a \\nquantidade de veiculos roubados '\n",
        "f'e furtados e de: {recuperados / (roubo + furto):.2f}%')"
      ],
      "execution_count": 284,
      "outputs": [
        {
          "output_type": "stream",
          "text": [
            "A porcentegem de veiculos recuperados em relação a \n",
            "quantidade de veiculos roubados e furtados e de: 0.43%\n"
          ],
          "name": "stdout"
        }
      ]
    },
    {
      "cell_type": "markdown",
      "metadata": {
        "id": "nsVrf3KDS-3R",
        "colab_type": "text"
      },
      "source": [
        "Em todo o periodo analisado foram recuperados 43% do total dos veiculos roubados e furtados."
      ]
    },
    {
      "cell_type": "markdown",
      "metadata": {
        "id": "ZvvZwyQAUE8Z",
        "colab_type": "text"
      },
      "source": [
        "Analisando o maior e menor numero de homicidios dolosos cometidos em todo o periodo."
      ]
    },
    {
      "cell_type": "code",
      "metadata": {
        "id": "hNWcxGuqUQZI",
        "colab_type": "code",
        "colab": {
          "base_uri": "https://localhost:8080/",
          "height": 72
        },
        "outputId": "62cb1f33-928f-40f0-a940-caa95488317b"
      },
      "source": [
        "# visualizando o maior e o menor numero de homicidios dolosos\n",
        "print('Maior numero e menor numero de Homicidios Dolosos registrados no periodo presentes no DataFrame:')\n",
        "print(f'O maior numero e: {df_clear.hom_doloso.max()} ')\n",
        "print(f'O menor numero de homicidios dolosos e: {df_clear.hom_doloso.min()}')"
      ],
      "execution_count": 285,
      "outputs": [
        {
          "output_type": "stream",
          "text": [
            "Maior numero e menor numero de Homicidios Dolosos registrados no periodo presentes no DataFrame:\n",
            "O maior numero e: 831 \n",
            "O menor numero de homicidios dolosos e: 272\n"
          ],
          "name": "stdout"
        }
      ]
    },
    {
      "cell_type": "markdown",
      "metadata": {
        "id": "7WK0NBQZASKC",
        "colab_type": "text"
      },
      "source": [
        "## Visualização de Dados\n",
        "\n",
        "Iremos análisar os graficos:\n",
        "* Indece de **Homicidios Dolosos**\n",
        "* Indece de **Roubo em Coletivos**\n",
        "* Indeces de **Roubo, Furto e Recupeção de Veiculos**\n"
      ]
    },
    {
      "cell_type": "markdown",
      "metadata": {
        "id": "X9DX-GVMUs78",
        "colab_type": "text"
      },
      "source": [
        "Plontando um histograma para analise dos **Homicidios Dolosos**."
      ]
    },
    {
      "cell_type": "code",
      "metadata": {
        "id": "_PIUjON6VGVA",
        "colab_type": "code",
        "colab": {
          "base_uri": "https://localhost:8080/",
          "height": 334
        },
        "outputId": "a8b03dfa-47f5-4a16-a917-9797555788b4"
      },
      "source": [
        "# visualizando o histograma da coluna de homicidios dolosos\n",
        "fig, (axis1) = plt.subplots(figsize=(15,5))\n",
        "#Plotando o histograma\n",
        "sns.barplot(x='vano', y='hom_doloso', data=df_clear, ax=axis1);"
      ],
      "execution_count": 286,
      "outputs": [
        {
          "output_type": "display_data",
          "data": {
            "image/png": "[encoded data removed]",
            "text/plain": [
              "<Figure size 1080x360 with 1 Axes>"
            ]
          },
          "metadata": {
            "tags": [],
            "needs_background": "light"
          }
        }
      ]
    },
    {
      "cell_type": "markdown",
      "metadata": {
        "id": "GMfS5MCa8eu2",
        "colab_type": "text"
      },
      "source": [
        "Plotando um grafico de linhas para análise do indice de **Roubos em Coletivos**."
      ]
    },
    {
      "cell_type": "code",
      "metadata": {
        "id": "DMBk4Fb5keKV",
        "colab_type": "code",
        "colab": {
          "base_uri": "https://localhost:8080/",
          "height": 334
        },
        "outputId": "a1f78922-79c7-42e5-ed92-9c5c7b8628b1"
      },
      "source": [
        "# carregando as configuração para plotar o grafico.\n",
        "fig, (axis1) = plt.subplots(figsize=(15,5))\n",
        "# Plotando o grafico de linhas\n",
        "sns.lineplot(x='vano', y='roubo_em_coletivo', data=df_clear, ax=axis1);"
      ],
      "execution_count": 287,
      "outputs": [
        {
          "output_type": "display_data",
          "data": {
            "image/png": "[encoded data removed]",
            "text/plain": [
              "<Figure size 1080x360 with 1 Axes>"
            ]
          },
          "metadata": {
            "tags": [],
            "needs_background": "light"
          }
        }
      ]
    },
    {
      "cell_type": "markdown",
      "metadata": {
        "id": "8cM5PU4XsvP2",
        "colab_type": "text"
      },
      "source": [
        "Nota de um crescimento crescimento no indece de assalto realizados em coletivos comparando o inicio e o final do grafico no qual o mesmo tem uma leve diminuição no final."
      ]
    },
    {
      "cell_type": "markdown",
      "metadata": {
        "id": "Iqt2nWkw9iv0",
        "colab_type": "text"
      },
      "source": [
        "Plotando um grafico de linhas para análise do indece de **Roubo, Furto e Recuperação de Veiculos Roubados**"
      ]
    },
    {
      "cell_type": "code",
      "metadata": {
        "id": "PU_Gb04M90gJ",
        "colab_type": "code",
        "colab": {
          "base_uri": "https://localhost:8080/",
          "height": 320
        },
        "outputId": "88579fb0-9e03-4dec-f530-749091b37f15"
      },
      "source": [
        "# plotando o grafico de linhas para analise e comparação dos indices\n",
        "df_clear[['roubo_veiculo', 'furto_veiculos', 'recuperacao_veiculos']].plot.line(figsize=(15,5));"
      ],
      "execution_count": 288,
      "outputs": [
        {
          "output_type": "display_data",
          "data": {
            "image/png": "[encoded data removed]",
            "text/plain": [
              "<Figure size 1080x360 with 1 Axes>"
            ]
          },
          "metadata": {
            "tags": [],
            "needs_background": "light"
          }
        }
      ]
    },
    {
      "cell_type": "code",
      "metadata": {
        "id": "vzesuLcHJbqY",
        "colab_type": "code",
        "colab": {
          "base_uri": "https://localhost:8080/",
          "height": 334
        },
        "outputId": "b697ddf6-e941-425a-f3bd-128116a3551c"
      },
      "source": [
        "# carregando as configuração para plotar o grafico.\n",
        "fig, (axis1, axis2, axis3) = plt.subplots(1,3, figsize=(15,5))\n",
        "# plotando um grafico de linhas separadamente para cada indece.\n",
        "sns.lineplot(x='vano', y='roubo_veiculo', data=df_clear, ax=axis1)\n",
        "sns.lineplot(x='vano', y='furto_veiculos', data=df_clear, ax=axis2)\n",
        "sns.lineplot(x='vano', y='recuperacao_veiculos', data=df_clear, ax=axis3);"
      ],
      "execution_count": 289,
      "outputs": [
        {
          "output_type": "display_data",
          "data": {
            "image/png": "[encoded data removed]",
            "text/plain": [
              "<Figure size 1080x360 with 3 Axes>"
            ]
          },
          "metadata": {
            "tags": [],
            "needs_background": "light"
          }
        }
      ]
    },
    {
      "cell_type": "markdown",
      "metadata": {
        "id": "LCsiXvM3BcsO",
        "colab_type": "text"
      },
      "source": [
        "## Conclusão\n",
        "O numero de homicidios dolosos registrados no ano de 2019 são os menores comprados com os anos anteriores chegando a maxima de 831 e a minima de 272 registros no em todo o periodos de 1991 a 2019.\n",
        "\n",
        "O numero de roubos em coletivos sofreu uma crescimento exponencial desde 1991 a 2019.\n",
        "\n",
        "O roubo de veiculos teve um crescimento de 1991 ate o ano de 2018 vindo a sofre um leve queda no ano de 2019, o furto de veiculos veio sofrendo uma diminuição desde 1991 a 2019, ja a recupeção do veiculos roubados e furtados cresceu desde 1991 a 2018 sefrendo um leve queda em 2019, neste periodo foram recuperados o total de 43% do total de veiculos roubados e furtados."
      ]
    }
  ]
}