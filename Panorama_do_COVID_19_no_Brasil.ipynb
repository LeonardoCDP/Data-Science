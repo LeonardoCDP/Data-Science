{
  "nbformat": 4,
  "nbformat_minor": 0,
  "metadata": {
    "colab": {
      "name": "Panorama do COVID-19 no Brasil.ipynb",
      "provenance": [],
      "collapsed_sections": []
    },
    "kernelspec": {
      "name": "python3",
      "display_name": "Python 3"
    }
  },
  "cells": [
    {
      "cell_type": "markdown",
      "metadata": {
        "id": "-eFQZydM9O9J",
        "colab_type": "text"
      },
      "source": [
        "<img alt=\"Colaboratory logo\" width=\"15%\" src=\"https://raw.githubusercontent.com/carlosfab/escola-data-science/master/img/novo_logo_bg_claro.png\">\n",
        "\n",
        "#### **Data Science na Prática 2.0**\n",
        "*by Leonardo Cotta*  \n",
        "\n",
        "---\n",
        "  "
      ]
    },
    {
      "cell_type": "markdown",
      "metadata": {
        "id": "kLI0gJtzDGuQ",
        "colab_type": "text"
      },
      "source": [
        "# Panorama do COVID-19 no Brasil\n",
        "\n",
        "COVID-19 é uma doença infecciosa causada por recém-descoberto coronavírus.\n",
        "\n",
        "Transmitido principalmente por meio de gotículas provenientes de tosses ou espirros de pessoas infectadas, a gravidade dos sintomas varia muito de pessoa para pessoa.\n",
        "\n",
        "Fato é, não se sabe muita coisa a respeito do COVID-19. Estudos estão sendo realizados no mundo todo, porém os resultados ainda não são conclusivos e definitivos.\n",
        "\n",
        "<center><img alt=\"Colaboratory logo\" width=\"50%\" src=\"https://raw.githubusercontent.com/carlosfab/dsnp2/master/img/covid19.jpg\"></center>\n",
        "\n",
        "Até o presente momento, observa-se que cerca de 80% dos casos confirmados são assintomáticos e rápidos. A maioria das pessoas que se encaixam nesse grupo, se recupera sem nenhuma sequela.\n",
        "\n",
        "No entanto, 15% das pessoas terão infecções graves e precisarão de oxigênio. O restante das pessoas, que representam 5%, serão classificadas como infecções muito graves e precisarão de ventilação assistida, por meio de respiradores mecânicos em ambiente hospitalar.\n",
        "\n",
        "Com o objetivo de elevar a consciência situacional a respeito do COVID-19 no Brasil, irei realizar uma análise sobre os dados públicos da doença."
      ]
    },
    {
      "cell_type": "markdown",
      "metadata": {
        "id": "83-JdBkEQFXw",
        "colab_type": "text"
      },
      "source": [
        "#Obetenção dos Dados\n",
        "\n",
        "Devido a dificuldade e encontrar um base de dados no Brasil completa que não tenha um conflito de informações entre o governo federal ,municipios e estados nas informações por ser uma doença nova com um baixo ou nem um numero de testes e novos testes, iremos utilizar a base de dados mundial da Our World in Data.\n",
        "\n",
        "* Para acessar o site da Our World in Data [Clique Aqui](https://ourworldindata.org/)\n",
        "\n",
        "* Para acessar a base de dados da Our World in Data [Clique Aqui](https://github.com/owid/covid-19-data/tree/master/public/data)\n",
        "\n",
        "* Para acessar o dicionário original das colunas [Clique Aqui](https://github.com/owid/covid-19-data/blob/master/public/data/owid-covid-data-codebook.md)"
      ]
    },
    {
      "cell_type": "markdown",
      "metadata": {
        "id": "FOZ2fgFKQMN0",
        "colab_type": "text"
      },
      "source": [
        "#Dicionário das Colunas\n",
        "\n",
        "* iso_code - ISO 3166 Codígo do Pais\n",
        "* continent - Continente\n",
        "* location - Localização Geografica(País)\n",
        "* date - Data do Registro\n",
        "* total_cases - Total de Casos Confirmados\n",
        "* new_cases - Novos casos Confirmados\n",
        "* total_deaths - Total de Mortes Confimadas\n",
        "* new_deaths - Novas Mortes Confirmadas\n",
        "* total_cases_per_million - Total de Casos Confirmados Por Um Milhão de Pessoas\n",
        "* new_cases_per_million - Novos Casos Confirmados Por Um Milhão de Pessoas\n",
        "* total_deaths_per_million - Total de Mortes Confirmadas Por Um Milhão de Pessoas\n",
        "* new_deaths_per_million - Novas Mortes Confirmadas Por Um Milhão de Pessoas\n",
        "* new_tests - Novos testes\n",
        "* total_tests - Total de Testes\n",
        "* total_tests_per_thousand - Total de Testes Por Um Mil de Pessoas\n",
        "* new_tests_per_thousand - Novos Teste Por Um Mil de Pessoas\n",
        "* new_tests_smoothed - Novos Testes Acumulados Por Sete Dias Consecutivos\n",
        "* new_tests_smoothed_per_thousand - Novos Testes Acumulados Por Sete Dias Consecutivos Por Um Mil de Pessoas\n",
        "* tests_units - Unidades Utilizadas Por Região Para Relatar Seus Testes\n",
        "* stringency_index - Índice Informado Pelo Governo Baseado Em 9 Indicadores de Isolamento Social\n",
        "* population - Tamanho da População em 2020\n",
        "* population_density - Índice de Densidade Populacional Em 2020\n",
        "* median_age - Idade Medía\n",
        "* aged_65_older - Proporção da População Com 60 Anos ou Mais Registrados Em 2017\n",
        "* aged_70_older - Proporção da População Com 70 Anos ou Mais Registrados Em 2017\n",
        "* gdp_per_capita - Produto Interno Bruto Do País Medido Em Dolar(PIB Registrado em 2011 Ultimo Ano Disponivel)\n",
        "* extreme_poverty - Índice da Pessoas Que Vivem Em Extrema Pobreza Registrado em 2010\n",
        "* cardiovasc_death_rate - Taxa de Mortalidade de Mortes Causadas Por Doenças Cardiacas em 2017(Numero Anual de Mortes Por Cem Mil pessoas)\n",
        "* diabetes_prevalence - Proporção de Diabeticos da População de 20 a 79 Anos de Idade\n",
        "* female_smokers - Porcentagem de Mulheres Fumantes(Ultimo Ano Resgistrado)\n",
        "* male_smokers - Porcentagem de Homens Fumantes(Ultimo Ano Resgistrado)\n",
        "* handwashing_facilities - Porcentagem de Pessoas Com Higiene Básica Disponivel\n",
        "* hospital_beds_per_thousand - Numero de Camas Em Hospitais Por Um Mil de Pessoas(Último Ano Disponivel 2010)\n",
        "* life_expectancy - Expectativa de Vidas Dos Nascidos Em 2019"
      ]
    },
    {
      "cell_type": "code",
      "metadata": {
        "id": "lOtEJxe0DMEb",
        "colab_type": "code",
        "colab": {
          "base_uri": "https://localhost:8080/",
          "height": 74
        },
        "outputId": "9cbceb0c-2313-4fcf-d78b-345d744d1e82"
      },
      "source": [
        "# importar as bibliotecas necessárias\n",
        "import pandas as pd\n",
        "import matplotlib.pyplot as plt\n",
        "import seaborn as sns\n",
        "\n",
        "# importar o dataset COVID-19 para um DataFrame\n",
        "df = pd.read_csv('https://raw.githubusercontent.com/owid/covid-19-data/master/public/data/owid-covid-data.csv')"
      ],
      "execution_count": 1,
      "outputs": [
        {
          "output_type": "stream",
          "text": [
            "/usr/local/lib/python3.6/dist-packages/statsmodels/tools/_testing.py:19: FutureWarning: pandas.util.testing is deprecated. Use the functions in the public API at pandas.testing instead.\n",
            "  import pandas.util.testing as tm\n"
          ],
          "name": "stderr"
        }
      ]
    },
    {
      "cell_type": "markdown",
      "metadata": {
        "id": "qb5By2nIMS6m",
        "colab_type": "text"
      },
      "source": [
        "## Análise Exploratória dos Dados\n",
        "Iremos realizar uma analise exploratoria do COVID - 19 para descobrimos o impacto causado no mundo usando como referencia a quantidade de casos registrados e mortes registradas pegando os Top Cinco Paises como referencia e uma analise de dispersão mundial para verificar a relação do PIB dos pais com a quantidade Mortes e Casos Registrados assim como a taxa de crescimento mundial dos casos confirmados e por ultimo uma analise dos efeitos no Brasil.\n",
        "\n",
        "### Análise Exploratória Inicial\n",
        "* Iremos realizar a analise exploratoria dos Top Cinco Paises com mais casos confirmados e mortes confirmadas\n",
        "* Iremos realizar a analise exploratoria mundial"
      ]
    },
    {
      "cell_type": "code",
      "metadata": {
        "id": "gO1fv3D1PS4k",
        "colab_type": "code",
        "colab": {
          "base_uri": "https://localhost:8080/",
          "height": 313
        },
        "outputId": "9d46ac0f-b2cf-4e80-e367-554974d3b0ca"
      },
      "source": [
        "# visualizando as 5 primeiras linhas do DataFrame\n",
        "df.head()"
      ],
      "execution_count": 2,
      "outputs": [
        {
          "output_type": "execute_result",
          "data": {
            "text/html": [
              "<div>\n",
              "<style scoped>\n",
              "    .dataframe tbody tr th:only-of-type {\n",
              "        vertical-align: middle;\n",
              "    }\n",
              "\n",
              "    .dataframe tbody tr th {\n",
              "        vertical-align: top;\n",
              "    }\n",
              "\n",
              "    .dataframe thead th {\n",
              "        text-align: right;\n",
              "    }\n",
              "</style>\n",
              "<table border=\"1\" class=\"dataframe\">\n",
              "  <thead>\n",
              "    <tr style=\"text-align: right;\">\n",
              "      <th></th>\n",
              "      <th>iso_code</th>\n",
              "      <th>continent</th>\n",
              "      <th>location</th>\n",
              "      <th>date</th>\n",
              "      <th>total_cases</th>\n",
              "      <th>new_cases</th>\n",
              "      <th>total_deaths</th>\n",
              "      <th>new_deaths</th>\n",
              "      <th>total_cases_per_million</th>\n",
              "      <th>new_cases_per_million</th>\n",
              "      <th>total_deaths_per_million</th>\n",
              "      <th>new_deaths_per_million</th>\n",
              "      <th>new_tests</th>\n",
              "      <th>total_tests</th>\n",
              "      <th>total_tests_per_thousand</th>\n",
              "      <th>new_tests_per_thousand</th>\n",
              "      <th>new_tests_smoothed</th>\n",
              "      <th>new_tests_smoothed_per_thousand</th>\n",
              "      <th>tests_units</th>\n",
              "      <th>stringency_index</th>\n",
              "      <th>population</th>\n",
              "      <th>population_density</th>\n",
              "      <th>median_age</th>\n",
              "      <th>aged_65_older</th>\n",
              "      <th>aged_70_older</th>\n",
              "      <th>gdp_per_capita</th>\n",
              "      <th>extreme_poverty</th>\n",
              "      <th>cardiovasc_death_rate</th>\n",
              "      <th>diabetes_prevalence</th>\n",
              "      <th>female_smokers</th>\n",
              "      <th>male_smokers</th>\n",
              "      <th>handwashing_facilities</th>\n",
              "      <th>hospital_beds_per_thousand</th>\n",
              "      <th>life_expectancy</th>\n",
              "    </tr>\n",
              "  </thead>\n",
              "  <tbody>\n",
              "    <tr>\n",
              "      <th>0</th>\n",
              "      <td>ABW</td>\n",
              "      <td>North America</td>\n",
              "      <td>Aruba</td>\n",
              "      <td>2020-03-13</td>\n",
              "      <td>2.0</td>\n",
              "      <td>2.0</td>\n",
              "      <td>0.0</td>\n",
              "      <td>0.0</td>\n",
              "      <td>18.733</td>\n",
              "      <td>18.733</td>\n",
              "      <td>0.0</td>\n",
              "      <td>0.0</td>\n",
              "      <td>NaN</td>\n",
              "      <td>NaN</td>\n",
              "      <td>NaN</td>\n",
              "      <td>NaN</td>\n",
              "      <td>NaN</td>\n",
              "      <td>NaN</td>\n",
              "      <td>NaN</td>\n",
              "      <td>0.00</td>\n",
              "      <td>106766.0</td>\n",
              "      <td>584.8</td>\n",
              "      <td>41.2</td>\n",
              "      <td>13.085</td>\n",
              "      <td>7.452</td>\n",
              "      <td>35973.781</td>\n",
              "      <td>NaN</td>\n",
              "      <td>NaN</td>\n",
              "      <td>11.62</td>\n",
              "      <td>NaN</td>\n",
              "      <td>NaN</td>\n",
              "      <td>NaN</td>\n",
              "      <td>NaN</td>\n",
              "      <td>76.29</td>\n",
              "    </tr>\n",
              "    <tr>\n",
              "      <th>1</th>\n",
              "      <td>ABW</td>\n",
              "      <td>North America</td>\n",
              "      <td>Aruba</td>\n",
              "      <td>2020-03-20</td>\n",
              "      <td>4.0</td>\n",
              "      <td>2.0</td>\n",
              "      <td>0.0</td>\n",
              "      <td>0.0</td>\n",
              "      <td>37.465</td>\n",
              "      <td>18.733</td>\n",
              "      <td>0.0</td>\n",
              "      <td>0.0</td>\n",
              "      <td>NaN</td>\n",
              "      <td>NaN</td>\n",
              "      <td>NaN</td>\n",
              "      <td>NaN</td>\n",
              "      <td>NaN</td>\n",
              "      <td>NaN</td>\n",
              "      <td>NaN</td>\n",
              "      <td>33.33</td>\n",
              "      <td>106766.0</td>\n",
              "      <td>584.8</td>\n",
              "      <td>41.2</td>\n",
              "      <td>13.085</td>\n",
              "      <td>7.452</td>\n",
              "      <td>35973.781</td>\n",
              "      <td>NaN</td>\n",
              "      <td>NaN</td>\n",
              "      <td>11.62</td>\n",
              "      <td>NaN</td>\n",
              "      <td>NaN</td>\n",
              "      <td>NaN</td>\n",
              "      <td>NaN</td>\n",
              "      <td>76.29</td>\n",
              "    </tr>\n",
              "    <tr>\n",
              "      <th>2</th>\n",
              "      <td>ABW</td>\n",
              "      <td>North America</td>\n",
              "      <td>Aruba</td>\n",
              "      <td>2020-03-24</td>\n",
              "      <td>12.0</td>\n",
              "      <td>8.0</td>\n",
              "      <td>0.0</td>\n",
              "      <td>0.0</td>\n",
              "      <td>112.395</td>\n",
              "      <td>74.930</td>\n",
              "      <td>0.0</td>\n",
              "      <td>0.0</td>\n",
              "      <td>NaN</td>\n",
              "      <td>NaN</td>\n",
              "      <td>NaN</td>\n",
              "      <td>NaN</td>\n",
              "      <td>NaN</td>\n",
              "      <td>NaN</td>\n",
              "      <td>NaN</td>\n",
              "      <td>44.44</td>\n",
              "      <td>106766.0</td>\n",
              "      <td>584.8</td>\n",
              "      <td>41.2</td>\n",
              "      <td>13.085</td>\n",
              "      <td>7.452</td>\n",
              "      <td>35973.781</td>\n",
              "      <td>NaN</td>\n",
              "      <td>NaN</td>\n",
              "      <td>11.62</td>\n",
              "      <td>NaN</td>\n",
              "      <td>NaN</td>\n",
              "      <td>NaN</td>\n",
              "      <td>NaN</td>\n",
              "      <td>76.29</td>\n",
              "    </tr>\n",
              "    <tr>\n",
              "      <th>3</th>\n",
              "      <td>ABW</td>\n",
              "      <td>North America</td>\n",
              "      <td>Aruba</td>\n",
              "      <td>2020-03-25</td>\n",
              "      <td>17.0</td>\n",
              "      <td>5.0</td>\n",
              "      <td>0.0</td>\n",
              "      <td>0.0</td>\n",
              "      <td>159.227</td>\n",
              "      <td>46.831</td>\n",
              "      <td>0.0</td>\n",
              "      <td>0.0</td>\n",
              "      <td>NaN</td>\n",
              "      <td>NaN</td>\n",
              "      <td>NaN</td>\n",
              "      <td>NaN</td>\n",
              "      <td>NaN</td>\n",
              "      <td>NaN</td>\n",
              "      <td>NaN</td>\n",
              "      <td>44.44</td>\n",
              "      <td>106766.0</td>\n",
              "      <td>584.8</td>\n",
              "      <td>41.2</td>\n",
              "      <td>13.085</td>\n",
              "      <td>7.452</td>\n",
              "      <td>35973.781</td>\n",
              "      <td>NaN</td>\n",
              "      <td>NaN</td>\n",
              "      <td>11.62</td>\n",
              "      <td>NaN</td>\n",
              "      <td>NaN</td>\n",
              "      <td>NaN</td>\n",
              "      <td>NaN</td>\n",
              "      <td>76.29</td>\n",
              "    </tr>\n",
              "    <tr>\n",
              "      <th>4</th>\n",
              "      <td>ABW</td>\n",
              "      <td>North America</td>\n",
              "      <td>Aruba</td>\n",
              "      <td>2020-03-26</td>\n",
              "      <td>19.0</td>\n",
              "      <td>2.0</td>\n",
              "      <td>0.0</td>\n",
              "      <td>0.0</td>\n",
              "      <td>177.959</td>\n",
              "      <td>18.733</td>\n",
              "      <td>0.0</td>\n",
              "      <td>0.0</td>\n",
              "      <td>NaN</td>\n",
              "      <td>NaN</td>\n",
              "      <td>NaN</td>\n",
              "      <td>NaN</td>\n",
              "      <td>NaN</td>\n",
              "      <td>NaN</td>\n",
              "      <td>NaN</td>\n",
              "      <td>44.44</td>\n",
              "      <td>106766.0</td>\n",
              "      <td>584.8</td>\n",
              "      <td>41.2</td>\n",
              "      <td>13.085</td>\n",
              "      <td>7.452</td>\n",
              "      <td>35973.781</td>\n",
              "      <td>NaN</td>\n",
              "      <td>NaN</td>\n",
              "      <td>11.62</td>\n",
              "      <td>NaN</td>\n",
              "      <td>NaN</td>\n",
              "      <td>NaN</td>\n",
              "      <td>NaN</td>\n",
              "      <td>76.29</td>\n",
              "    </tr>\n",
              "  </tbody>\n",
              "</table>\n",
              "</div>"
            ],
            "text/plain": [
              "  iso_code      continent  ... hospital_beds_per_thousand life_expectancy\n",
              "0      ABW  North America  ...                        NaN           76.29\n",
              "1      ABW  North America  ...                        NaN           76.29\n",
              "2      ABW  North America  ...                        NaN           76.29\n",
              "3      ABW  North America  ...                        NaN           76.29\n",
              "4      ABW  North America  ...                        NaN           76.29\n",
              "\n",
              "[5 rows x 34 columns]"
            ]
          },
          "metadata": {
            "tags": []
          },
          "execution_count": 2
        }
      ]
    },
    {
      "cell_type": "code",
      "metadata": {
        "id": "skuY6qCYgNCi",
        "colab_type": "code",
        "colab": {
          "base_uri": "https://localhost:8080/",
          "height": 35
        },
        "outputId": "68ac470d-51f6-4e3a-af24-86c069554d36"
      },
      "source": [
        "# analisando o tamanho do DataFrame\n",
        "print(f'O Dataframe analisado possui {df.shape[0]} linhas e {df.shape[1]} colunas.')"
      ],
      "execution_count": 3,
      "outputs": [
        {
          "output_type": "stream",
          "text": [
            "O Dataframe analisado possui 34453 linhas e 34 colunas.\n"
          ],
          "name": "stdout"
        }
      ]
    },
    {
      "cell_type": "code",
      "metadata": {
        "id": "u6zu1EUbghQ1",
        "colab_type": "code",
        "colab": {
          "base_uri": "https://localhost:8080/",
          "height": 237
        },
        "outputId": "10c6eeda-026a-4755-b088-bc96e5a5e224"
      },
      "source": [
        "# visualizando o nome das colunas presentes no DataFrame\n",
        "df.columns"
      ],
      "execution_count": 4,
      "outputs": [
        {
          "output_type": "execute_result",
          "data": {
            "text/plain": [
              "Index(['iso_code', 'continent', 'location', 'date', 'total_cases', 'new_cases',\n",
              "       'total_deaths', 'new_deaths', 'total_cases_per_million',\n",
              "       'new_cases_per_million', 'total_deaths_per_million',\n",
              "       'new_deaths_per_million', 'new_tests', 'total_tests',\n",
              "       'total_tests_per_thousand', 'new_tests_per_thousand',\n",
              "       'new_tests_smoothed', 'new_tests_smoothed_per_thousand', 'tests_units',\n",
              "       'stringency_index', 'population', 'population_density', 'median_age',\n",
              "       'aged_65_older', 'aged_70_older', 'gdp_per_capita', 'extreme_poverty',\n",
              "       'cardiovasc_death_rate', 'diabetes_prevalence', 'female_smokers',\n",
              "       'male_smokers', 'handwashing_facilities', 'hospital_beds_per_thousand',\n",
              "       'life_expectancy'],\n",
              "      dtype='object')"
            ]
          },
          "metadata": {
            "tags": []
          },
          "execution_count": 4
        }
      ]
    },
    {
      "cell_type": "code",
      "metadata": {
        "id": "iB-qTc19hR7t",
        "colab_type": "code",
        "colab": {
          "base_uri": "https://localhost:8080/",
          "height": 660
        },
        "outputId": "bc42335e-8117-4d9f-c63c-8bb8518c919a"
      },
      "source": [
        "# analisando os tipos das colunas presente no DataFrame\n",
        "df.dtypes.sort_values(ascending=False)"
      ],
      "execution_count": 5,
      "outputs": [
        {
          "output_type": "execute_result",
          "data": {
            "text/plain": [
              "iso_code                            object\n",
              "continent                           object\n",
              "location                            object\n",
              "date                                object\n",
              "tests_units                         object\n",
              "new_cases_per_million              float64\n",
              "total_tests                        float64\n",
              "new_tests                          float64\n",
              "new_deaths_per_million             float64\n",
              "total_deaths_per_million           float64\n",
              "new_deaths                         float64\n",
              "total_cases_per_million            float64\n",
              "new_tests_per_thousand             float64\n",
              "total_deaths                       float64\n",
              "new_cases                          float64\n",
              "total_cases                        float64\n",
              "total_tests_per_thousand           float64\n",
              "life_expectancy                    float64\n",
              "hospital_beds_per_thousand         float64\n",
              "new_tests_smoothed_per_thousand    float64\n",
              "stringency_index                   float64\n",
              "population                         float64\n",
              "population_density                 float64\n",
              "median_age                         float64\n",
              "aged_65_older                      float64\n",
              "aged_70_older                      float64\n",
              "gdp_per_capita                     float64\n",
              "extreme_poverty                    float64\n",
              "cardiovasc_death_rate              float64\n",
              "diabetes_prevalence                float64\n",
              "female_smokers                     float64\n",
              "male_smokers                       float64\n",
              "handwashing_facilities             float64\n",
              "new_tests_smoothed                 float64\n",
              "dtype: object"
            ]
          },
          "metadata": {
            "tags": []
          },
          "execution_count": 5
        }
      ]
    },
    {
      "cell_type": "markdown",
      "metadata": {
        "id": "0rDKanrGh1vp",
        "colab_type": "text"
      },
      "source": [
        "O Dataframe possui em sua composição 5 colunas no formato de texto e 29 colunas no formato de decimal.\n",
        "\n",
        "Iremos transformar a coluna Date do formato de texto para o formato de data.\n",
        "\n"
      ]
    },
    {
      "cell_type": "code",
      "metadata": {
        "id": "wJaQ17xniyiK",
        "colab_type": "code",
        "colab": {}
      },
      "source": [
        "# mudando o formato da coluna Date de texto para Data\n",
        "df.date = pd.to_datetime(df.date, format='%Y-%m-%d')"
      ],
      "execution_count": 6,
      "outputs": []
    },
    {
      "cell_type": "code",
      "metadata": {
        "id": "WahuI_LRjssK",
        "colab_type": "code",
        "colab": {
          "base_uri": "https://localhost:8080/",
          "height": 660
        },
        "outputId": "aa0796c0-9e4d-47d1-8d20-5dc406602faf"
      },
      "source": [
        "# visualizando o formato da coluna Date apos a mudança realizada\n",
        "df.dtypes"
      ],
      "execution_count": 7,
      "outputs": [
        {
          "output_type": "execute_result",
          "data": {
            "text/plain": [
              "iso_code                                   object\n",
              "continent                                  object\n",
              "location                                   object\n",
              "date                               datetime64[ns]\n",
              "total_cases                               float64\n",
              "new_cases                                 float64\n",
              "total_deaths                              float64\n",
              "new_deaths                                float64\n",
              "total_cases_per_million                   float64\n",
              "new_cases_per_million                     float64\n",
              "total_deaths_per_million                  float64\n",
              "new_deaths_per_million                    float64\n",
              "new_tests                                 float64\n",
              "total_tests                               float64\n",
              "total_tests_per_thousand                  float64\n",
              "new_tests_per_thousand                    float64\n",
              "new_tests_smoothed                        float64\n",
              "new_tests_smoothed_per_thousand           float64\n",
              "tests_units                                object\n",
              "stringency_index                          float64\n",
              "population                                float64\n",
              "population_density                        float64\n",
              "median_age                                float64\n",
              "aged_65_older                             float64\n",
              "aged_70_older                             float64\n",
              "gdp_per_capita                            float64\n",
              "extreme_poverty                           float64\n",
              "cardiovasc_death_rate                     float64\n",
              "diabetes_prevalence                       float64\n",
              "female_smokers                            float64\n",
              "male_smokers                              float64\n",
              "handwashing_facilities                    float64\n",
              "hospital_beds_per_thousand                float64\n",
              "life_expectancy                           float64\n",
              "dtype: object"
            ]
          },
          "metadata": {
            "tags": []
          },
          "execution_count": 7
        }
      ]
    },
    {
      "cell_type": "markdown",
      "metadata": {
        "id": "1rL4GvlIkCyE",
        "colab_type": "text"
      },
      "source": [
        "Após a mudança o Data frame passou a ter 1 coluna no formato de data, 4 colunas no formato de texto e 29 colunas no formato de decimal."
      ]
    },
    {
      "cell_type": "code",
      "metadata": {
        "id": "QHJ2QAYQkV-y",
        "colab_type": "code",
        "colab": {
          "base_uri": "https://localhost:8080/",
          "height": 660
        },
        "outputId": "a102556d-1b81-455b-f5d0-de9c87e2b98f"
      },
      "source": [
        "# analisando a porcentagem de dados ausentes no DataFrame\n",
        "(df.isnull().sum() / df.shape[0]).sort_values(ascending=False)"
      ],
      "execution_count": 8,
      "outputs": [
        {
          "output_type": "execute_result",
          "data": {
            "text/plain": [
              "new_tests_per_thousand             0.687807\n",
              "new_tests                          0.687807\n",
              "total_tests_per_thousand           0.677503\n",
              "total_tests                        0.677503\n",
              "new_tests_smoothed_per_thousand    0.648681\n",
              "new_tests_smoothed                 0.648681\n",
              "tests_units                        0.627318\n",
              "handwashing_facilities             0.587148\n",
              "extreme_poverty                    0.405509\n",
              "male_smokers                       0.294924\n",
              "female_smokers                     0.286332\n",
              "stringency_index                   0.187066\n",
              "hospital_beds_per_thousand         0.181958\n",
              "aged_65_older                      0.113604\n",
              "gdp_per_capita                     0.111572\n",
              "aged_70_older                      0.105158\n",
              "median_age                         0.100514\n",
              "cardiovasc_death_rate              0.099672\n",
              "diabetes_prevalence                0.069602\n",
              "population_density                 0.045337\n",
              "life_expectancy                    0.013961\n",
              "new_deaths_per_million             0.011755\n",
              "total_deaths_per_million           0.011755\n",
              "new_cases_per_million              0.011755\n",
              "total_cases_per_million            0.011755\n",
              "new_deaths                         0.009898\n",
              "total_deaths                       0.009898\n",
              "new_cases                          0.009898\n",
              "total_cases                        0.009898\n",
              "continent                          0.008156\n",
              "population                         0.001858\n",
              "iso_code                           0.001858\n",
              "date                               0.000000\n",
              "location                           0.000000\n",
              "dtype: float64"
            ]
          },
          "metadata": {
            "tags": []
          },
          "execution_count": 8
        }
      ]
    },
    {
      "cell_type": "markdown",
      "metadata": {
        "id": "qesP5YPtl6lG",
        "colab_type": "text"
      },
      "source": [
        "Nosso DataFrame possui um alto numero de dados ausentes ou nulos devido ao fator principal que a falta de novos testes para o COVID - 19, diminuindo com isto a conclusividade dos dados presentes.\n",
        "\n",
        "Iremos realizar as analises dos dados observando que não serão conclusivos, devido a falta de dados informados por varios paises como a proporção de testes realizados, novos teste, etc.\n",
        "\n",
        "Obs: Alguns paises possuem um índice de novos teste informados que torna a analise exploratoria deles mais conclusiva fora do ambito mundial, no caso iremos a analise exploratoria do Brasil."
      ]
    },
    {
      "cell_type": "code",
      "metadata": {
        "id": "DiGUJ7Nwl7qW",
        "colab_type": "code",
        "colab": {
          "base_uri": "https://localhost:8080/",
          "height": 296
        },
        "outputId": "d4f637f6-86fb-4ee3-e39d-1ee4c52873e1"
      },
      "source": [
        "# visualizando os 5 paises que possui o maiores casos registrados no ultimo periodo\n",
        "df.loc[df.date == '2020-08-03'].sort_values(by='total_cases', ascending=False)[1:6]"
      ],
      "execution_count": 9,
      "outputs": [
        {
          "output_type": "execute_result",
          "data": {
            "text/html": [
              "<div>\n",
              "<style scoped>\n",
              "    .dataframe tbody tr th:only-of-type {\n",
              "        vertical-align: middle;\n",
              "    }\n",
              "\n",
              "    .dataframe tbody tr th {\n",
              "        vertical-align: top;\n",
              "    }\n",
              "\n",
              "    .dataframe thead th {\n",
              "        text-align: right;\n",
              "    }\n",
              "</style>\n",
              "<table border=\"1\" class=\"dataframe\">\n",
              "  <thead>\n",
              "    <tr style=\"text-align: right;\">\n",
              "      <th></th>\n",
              "      <th>iso_code</th>\n",
              "      <th>continent</th>\n",
              "      <th>location</th>\n",
              "      <th>date</th>\n",
              "      <th>total_cases</th>\n",
              "      <th>new_cases</th>\n",
              "      <th>total_deaths</th>\n",
              "      <th>new_deaths</th>\n",
              "      <th>total_cases_per_million</th>\n",
              "      <th>new_cases_per_million</th>\n",
              "      <th>total_deaths_per_million</th>\n",
              "      <th>new_deaths_per_million</th>\n",
              "      <th>new_tests</th>\n",
              "      <th>total_tests</th>\n",
              "      <th>total_tests_per_thousand</th>\n",
              "      <th>new_tests_per_thousand</th>\n",
              "      <th>new_tests_smoothed</th>\n",
              "      <th>new_tests_smoothed_per_thousand</th>\n",
              "      <th>tests_units</th>\n",
              "      <th>stringency_index</th>\n",
              "      <th>population</th>\n",
              "      <th>population_density</th>\n",
              "      <th>median_age</th>\n",
              "      <th>aged_65_older</th>\n",
              "      <th>aged_70_older</th>\n",
              "      <th>gdp_per_capita</th>\n",
              "      <th>extreme_poverty</th>\n",
              "      <th>cardiovasc_death_rate</th>\n",
              "      <th>diabetes_prevalence</th>\n",
              "      <th>female_smokers</th>\n",
              "      <th>male_smokers</th>\n",
              "      <th>handwashing_facilities</th>\n",
              "      <th>hospital_beds_per_thousand</th>\n",
              "      <th>life_expectancy</th>\n",
              "    </tr>\n",
              "  </thead>\n",
              "  <tbody>\n",
              "    <tr>\n",
              "      <th>32423</th>\n",
              "      <td>USA</td>\n",
              "      <td>North America</td>\n",
              "      <td>United States</td>\n",
              "      <td>2020-08-03</td>\n",
              "      <td>4667955.0</td>\n",
              "      <td>47511.0</td>\n",
              "      <td>154860.0</td>\n",
              "      <td>413.0</td>\n",
              "      <td>14102.470</td>\n",
              "      <td>143.537</td>\n",
              "      <td>467.851</td>\n",
              "      <td>1.248</td>\n",
              "      <td>NaN</td>\n",
              "      <td>NaN</td>\n",
              "      <td>NaN</td>\n",
              "      <td>NaN</td>\n",
              "      <td>NaN</td>\n",
              "      <td>NaN</td>\n",
              "      <td>NaN</td>\n",
              "      <td>NaN</td>\n",
              "      <td>3.310026e+08</td>\n",
              "      <td>35.608</td>\n",
              "      <td>38.3</td>\n",
              "      <td>15.413</td>\n",
              "      <td>9.732</td>\n",
              "      <td>54225.446</td>\n",
              "      <td>1.2</td>\n",
              "      <td>151.089</td>\n",
              "      <td>10.79</td>\n",
              "      <td>19.1</td>\n",
              "      <td>24.6</td>\n",
              "      <td>NaN</td>\n",
              "      <td>2.77</td>\n",
              "      <td>78.86</td>\n",
              "    </tr>\n",
              "    <tr>\n",
              "      <th>4675</th>\n",
              "      <td>BRA</td>\n",
              "      <td>South America</td>\n",
              "      <td>Brazil</td>\n",
              "      <td>2020-08-03</td>\n",
              "      <td>2733677.0</td>\n",
              "      <td>25800.0</td>\n",
              "      <td>94104.0</td>\n",
              "      <td>541.0</td>\n",
              "      <td>12860.767</td>\n",
              "      <td>121.378</td>\n",
              "      <td>442.719</td>\n",
              "      <td>2.545</td>\n",
              "      <td>NaN</td>\n",
              "      <td>NaN</td>\n",
              "      <td>NaN</td>\n",
              "      <td>NaN</td>\n",
              "      <td>NaN</td>\n",
              "      <td>NaN</td>\n",
              "      <td>NaN</td>\n",
              "      <td>NaN</td>\n",
              "      <td>2.125594e+08</td>\n",
              "      <td>25.040</td>\n",
              "      <td>33.5</td>\n",
              "      <td>8.552</td>\n",
              "      <td>5.060</td>\n",
              "      <td>14103.452</td>\n",
              "      <td>3.4</td>\n",
              "      <td>177.961</td>\n",
              "      <td>8.11</td>\n",
              "      <td>10.1</td>\n",
              "      <td>17.9</td>\n",
              "      <td>NaN</td>\n",
              "      <td>2.20</td>\n",
              "      <td>75.88</td>\n",
              "    </tr>\n",
              "    <tr>\n",
              "      <th>14978</th>\n",
              "      <td>IND</td>\n",
              "      <td>Asia</td>\n",
              "      <td>India</td>\n",
              "      <td>2020-08-03</td>\n",
              "      <td>1803695.0</td>\n",
              "      <td>52972.0</td>\n",
              "      <td>38135.0</td>\n",
              "      <td>771.0</td>\n",
              "      <td>1307.021</td>\n",
              "      <td>38.385</td>\n",
              "      <td>27.634</td>\n",
              "      <td>0.559</td>\n",
              "      <td>381027.0</td>\n",
              "      <td>20202858.0</td>\n",
              "      <td>14.64</td>\n",
              "      <td>0.276</td>\n",
              "      <td>485151.0</td>\n",
              "      <td>0.352</td>\n",
              "      <td>samples tested</td>\n",
              "      <td>NaN</td>\n",
              "      <td>1.380004e+09</td>\n",
              "      <td>450.419</td>\n",
              "      <td>28.2</td>\n",
              "      <td>5.989</td>\n",
              "      <td>3.414</td>\n",
              "      <td>6426.674</td>\n",
              "      <td>21.2</td>\n",
              "      <td>282.280</td>\n",
              "      <td>10.39</td>\n",
              "      <td>1.9</td>\n",
              "      <td>20.6</td>\n",
              "      <td>59.550</td>\n",
              "      <td>0.53</td>\n",
              "      <td>69.66</td>\n",
              "    </tr>\n",
              "    <tr>\n",
              "      <th>27098</th>\n",
              "      <td>RUS</td>\n",
              "      <td>Europe</td>\n",
              "      <td>Russia</td>\n",
              "      <td>2020-08-03</td>\n",
              "      <td>850870.0</td>\n",
              "      <td>5427.0</td>\n",
              "      <td>14128.0</td>\n",
              "      <td>70.0</td>\n",
              "      <td>5830.494</td>\n",
              "      <td>37.188</td>\n",
              "      <td>96.811</td>\n",
              "      <td>0.480</td>\n",
              "      <td>NaN</td>\n",
              "      <td>NaN</td>\n",
              "      <td>NaN</td>\n",
              "      <td>NaN</td>\n",
              "      <td>NaN</td>\n",
              "      <td>NaN</td>\n",
              "      <td>NaN</td>\n",
              "      <td>NaN</td>\n",
              "      <td>1.459345e+08</td>\n",
              "      <td>8.823</td>\n",
              "      <td>39.6</td>\n",
              "      <td>14.178</td>\n",
              "      <td>9.393</td>\n",
              "      <td>24765.954</td>\n",
              "      <td>0.1</td>\n",
              "      <td>431.297</td>\n",
              "      <td>6.18</td>\n",
              "      <td>23.4</td>\n",
              "      <td>58.3</td>\n",
              "      <td>NaN</td>\n",
              "      <td>8.05</td>\n",
              "      <td>72.58</td>\n",
              "    </tr>\n",
              "    <tr>\n",
              "      <th>33897</th>\n",
              "      <td>ZAF</td>\n",
              "      <td>Africa</td>\n",
              "      <td>South Africa</td>\n",
              "      <td>2020-08-03</td>\n",
              "      <td>511485.0</td>\n",
              "      <td>8195.0</td>\n",
              "      <td>8366.0</td>\n",
              "      <td>213.0</td>\n",
              "      <td>8624.116</td>\n",
              "      <td>138.175</td>\n",
              "      <td>141.059</td>\n",
              "      <td>3.591</td>\n",
              "      <td>NaN</td>\n",
              "      <td>NaN</td>\n",
              "      <td>NaN</td>\n",
              "      <td>NaN</td>\n",
              "      <td>NaN</td>\n",
              "      <td>NaN</td>\n",
              "      <td>NaN</td>\n",
              "      <td>NaN</td>\n",
              "      <td>5.930869e+07</td>\n",
              "      <td>46.754</td>\n",
              "      <td>27.3</td>\n",
              "      <td>5.344</td>\n",
              "      <td>3.053</td>\n",
              "      <td>12294.876</td>\n",
              "      <td>18.9</td>\n",
              "      <td>200.380</td>\n",
              "      <td>5.52</td>\n",
              "      <td>8.1</td>\n",
              "      <td>33.2</td>\n",
              "      <td>43.993</td>\n",
              "      <td>2.32</td>\n",
              "      <td>64.13</td>\n",
              "    </tr>\n",
              "  </tbody>\n",
              "</table>\n",
              "</div>"
            ],
            "text/plain": [
              "      iso_code      continent  ... hospital_beds_per_thousand life_expectancy\n",
              "32423      USA  North America  ...                       2.77           78.86\n",
              "4675       BRA  South America  ...                       2.20           75.88\n",
              "14978      IND           Asia  ...                       0.53           69.66\n",
              "27098      RUS         Europe  ...                       8.05           72.58\n",
              "33897      ZAF         Africa  ...                       2.32           64.13\n",
              "\n",
              "[5 rows x 34 columns]"
            ]
          },
          "metadata": {
            "tags": []
          },
          "execution_count": 9
        }
      ]
    },
    {
      "cell_type": "markdown",
      "metadata": {
        "id": "MFHmITkWoS0Z",
        "colab_type": "text"
      },
      "source": [
        "Os Estados Unidos possuem o maior numero de casos seguido do Brasil, India,Russia, Africa do Sul, etc."
      ]
    },
    {
      "cell_type": "code",
      "metadata": {
        "id": "Vx2fqYVanm1V",
        "colab_type": "code",
        "colab": {
          "base_uri": "https://localhost:8080/",
          "height": 313
        },
        "outputId": "92d2ee12-8a06-47a1-c699-ae7a17430a1e"
      },
      "source": [
        "# visualizando os 5 paises com o maior numero de mortes registradas\n",
        "df.loc[df.date == '2020-08-03'].sort_values(by='total_deaths', ascending=False)[1:6]"
      ],
      "execution_count": 10,
      "outputs": [
        {
          "output_type": "execute_result",
          "data": {
            "text/html": [
              "<div>\n",
              "<style scoped>\n",
              "    .dataframe tbody tr th:only-of-type {\n",
              "        vertical-align: middle;\n",
              "    }\n",
              "\n",
              "    .dataframe tbody tr th {\n",
              "        vertical-align: top;\n",
              "    }\n",
              "\n",
              "    .dataframe thead th {\n",
              "        text-align: right;\n",
              "    }\n",
              "</style>\n",
              "<table border=\"1\" class=\"dataframe\">\n",
              "  <thead>\n",
              "    <tr style=\"text-align: right;\">\n",
              "      <th></th>\n",
              "      <th>iso_code</th>\n",
              "      <th>continent</th>\n",
              "      <th>location</th>\n",
              "      <th>date</th>\n",
              "      <th>total_cases</th>\n",
              "      <th>new_cases</th>\n",
              "      <th>total_deaths</th>\n",
              "      <th>new_deaths</th>\n",
              "      <th>total_cases_per_million</th>\n",
              "      <th>new_cases_per_million</th>\n",
              "      <th>total_deaths_per_million</th>\n",
              "      <th>new_deaths_per_million</th>\n",
              "      <th>new_tests</th>\n",
              "      <th>total_tests</th>\n",
              "      <th>total_tests_per_thousand</th>\n",
              "      <th>new_tests_per_thousand</th>\n",
              "      <th>new_tests_smoothed</th>\n",
              "      <th>new_tests_smoothed_per_thousand</th>\n",
              "      <th>tests_units</th>\n",
              "      <th>stringency_index</th>\n",
              "      <th>population</th>\n",
              "      <th>population_density</th>\n",
              "      <th>median_age</th>\n",
              "      <th>aged_65_older</th>\n",
              "      <th>aged_70_older</th>\n",
              "      <th>gdp_per_capita</th>\n",
              "      <th>extreme_poverty</th>\n",
              "      <th>cardiovasc_death_rate</th>\n",
              "      <th>diabetes_prevalence</th>\n",
              "      <th>female_smokers</th>\n",
              "      <th>male_smokers</th>\n",
              "      <th>handwashing_facilities</th>\n",
              "      <th>hospital_beds_per_thousand</th>\n",
              "      <th>life_expectancy</th>\n",
              "    </tr>\n",
              "  </thead>\n",
              "  <tbody>\n",
              "    <tr>\n",
              "      <th>32423</th>\n",
              "      <td>USA</td>\n",
              "      <td>North America</td>\n",
              "      <td>United States</td>\n",
              "      <td>2020-08-03</td>\n",
              "      <td>4667955.0</td>\n",
              "      <td>47511.0</td>\n",
              "      <td>154860.0</td>\n",
              "      <td>413.0</td>\n",
              "      <td>14102.470</td>\n",
              "      <td>143.537</td>\n",
              "      <td>467.851</td>\n",
              "      <td>1.248</td>\n",
              "      <td>NaN</td>\n",
              "      <td>NaN</td>\n",
              "      <td>NaN</td>\n",
              "      <td>NaN</td>\n",
              "      <td>NaN</td>\n",
              "      <td>NaN</td>\n",
              "      <td>NaN</td>\n",
              "      <td>NaN</td>\n",
              "      <td>3.310026e+08</td>\n",
              "      <td>35.608</td>\n",
              "      <td>38.3</td>\n",
              "      <td>15.413</td>\n",
              "      <td>9.732</td>\n",
              "      <td>54225.446</td>\n",
              "      <td>1.2</td>\n",
              "      <td>151.089</td>\n",
              "      <td>10.79</td>\n",
              "      <td>19.1</td>\n",
              "      <td>24.6</td>\n",
              "      <td>NaN</td>\n",
              "      <td>2.77</td>\n",
              "      <td>78.86</td>\n",
              "    </tr>\n",
              "    <tr>\n",
              "      <th>4675</th>\n",
              "      <td>BRA</td>\n",
              "      <td>South America</td>\n",
              "      <td>Brazil</td>\n",
              "      <td>2020-08-03</td>\n",
              "      <td>2733677.0</td>\n",
              "      <td>25800.0</td>\n",
              "      <td>94104.0</td>\n",
              "      <td>541.0</td>\n",
              "      <td>12860.767</td>\n",
              "      <td>121.378</td>\n",
              "      <td>442.719</td>\n",
              "      <td>2.545</td>\n",
              "      <td>NaN</td>\n",
              "      <td>NaN</td>\n",
              "      <td>NaN</td>\n",
              "      <td>NaN</td>\n",
              "      <td>NaN</td>\n",
              "      <td>NaN</td>\n",
              "      <td>NaN</td>\n",
              "      <td>NaN</td>\n",
              "      <td>2.125594e+08</td>\n",
              "      <td>25.040</td>\n",
              "      <td>33.5</td>\n",
              "      <td>8.552</td>\n",
              "      <td>5.060</td>\n",
              "      <td>14103.452</td>\n",
              "      <td>3.4</td>\n",
              "      <td>177.961</td>\n",
              "      <td>8.11</td>\n",
              "      <td>10.1</td>\n",
              "      <td>17.9</td>\n",
              "      <td>NaN</td>\n",
              "      <td>2.20</td>\n",
              "      <td>75.88</td>\n",
              "    </tr>\n",
              "    <tr>\n",
              "      <th>20937</th>\n",
              "      <td>MEX</td>\n",
              "      <td>North America</td>\n",
              "      <td>Mexico</td>\n",
              "      <td>2020-08-03</td>\n",
              "      <td>439046.0</td>\n",
              "      <td>4853.0</td>\n",
              "      <td>47746.0</td>\n",
              "      <td>274.0</td>\n",
              "      <td>3405.232</td>\n",
              "      <td>37.640</td>\n",
              "      <td>370.317</td>\n",
              "      <td>2.125</td>\n",
              "      <td>NaN</td>\n",
              "      <td>NaN</td>\n",
              "      <td>NaN</td>\n",
              "      <td>NaN</td>\n",
              "      <td>NaN</td>\n",
              "      <td>NaN</td>\n",
              "      <td>NaN</td>\n",
              "      <td>NaN</td>\n",
              "      <td>1.289328e+08</td>\n",
              "      <td>66.444</td>\n",
              "      <td>29.3</td>\n",
              "      <td>6.857</td>\n",
              "      <td>4.321</td>\n",
              "      <td>17336.469</td>\n",
              "      <td>2.5</td>\n",
              "      <td>152.783</td>\n",
              "      <td>13.06</td>\n",
              "      <td>6.9</td>\n",
              "      <td>21.4</td>\n",
              "      <td>87.847</td>\n",
              "      <td>1.38</td>\n",
              "      <td>75.05</td>\n",
              "    </tr>\n",
              "    <tr>\n",
              "      <th>11665</th>\n",
              "      <td>GBR</td>\n",
              "      <td>Europe</td>\n",
              "      <td>United Kingdom</td>\n",
              "      <td>2020-08-03</td>\n",
              "      <td>304695.0</td>\n",
              "      <td>743.0</td>\n",
              "      <td>46201.0</td>\n",
              "      <td>8.0</td>\n",
              "      <td>4488.333</td>\n",
              "      <td>10.945</td>\n",
              "      <td>680.567</td>\n",
              "      <td>0.118</td>\n",
              "      <td>NaN</td>\n",
              "      <td>NaN</td>\n",
              "      <td>NaN</td>\n",
              "      <td>NaN</td>\n",
              "      <td>NaN</td>\n",
              "      <td>NaN</td>\n",
              "      <td>NaN</td>\n",
              "      <td>NaN</td>\n",
              "      <td>6.788600e+07</td>\n",
              "      <td>272.898</td>\n",
              "      <td>40.8</td>\n",
              "      <td>18.517</td>\n",
              "      <td>12.527</td>\n",
              "      <td>39753.244</td>\n",
              "      <td>0.2</td>\n",
              "      <td>122.137</td>\n",
              "      <td>4.28</td>\n",
              "      <td>20.0</td>\n",
              "      <td>24.7</td>\n",
              "      <td>NaN</td>\n",
              "      <td>2.54</td>\n",
              "      <td>81.32</td>\n",
              "    </tr>\n",
              "    <tr>\n",
              "      <th>14978</th>\n",
              "      <td>IND</td>\n",
              "      <td>Asia</td>\n",
              "      <td>India</td>\n",
              "      <td>2020-08-03</td>\n",
              "      <td>1803695.0</td>\n",
              "      <td>52972.0</td>\n",
              "      <td>38135.0</td>\n",
              "      <td>771.0</td>\n",
              "      <td>1307.021</td>\n",
              "      <td>38.385</td>\n",
              "      <td>27.634</td>\n",
              "      <td>0.559</td>\n",
              "      <td>381027.0</td>\n",
              "      <td>20202858.0</td>\n",
              "      <td>14.64</td>\n",
              "      <td>0.276</td>\n",
              "      <td>485151.0</td>\n",
              "      <td>0.352</td>\n",
              "      <td>samples tested</td>\n",
              "      <td>NaN</td>\n",
              "      <td>1.380004e+09</td>\n",
              "      <td>450.419</td>\n",
              "      <td>28.2</td>\n",
              "      <td>5.989</td>\n",
              "      <td>3.414</td>\n",
              "      <td>6426.674</td>\n",
              "      <td>21.2</td>\n",
              "      <td>282.280</td>\n",
              "      <td>10.39</td>\n",
              "      <td>1.9</td>\n",
              "      <td>20.6</td>\n",
              "      <td>59.550</td>\n",
              "      <td>0.53</td>\n",
              "      <td>69.66</td>\n",
              "    </tr>\n",
              "  </tbody>\n",
              "</table>\n",
              "</div>"
            ],
            "text/plain": [
              "      iso_code      continent  ... hospital_beds_per_thousand life_expectancy\n",
              "32423      USA  North America  ...                       2.77           78.86\n",
              "4675       BRA  South America  ...                       2.20           75.88\n",
              "20937      MEX  North America  ...                       1.38           75.05\n",
              "11665      GBR         Europe  ...                       2.54           81.32\n",
              "14978      IND           Asia  ...                       0.53           69.66\n",
              "\n",
              "[5 rows x 34 columns]"
            ]
          },
          "metadata": {
            "tags": []
          },
          "execution_count": 10
        }
      ]
    },
    {
      "cell_type": "markdown",
      "metadata": {
        "id": "XDYxI1APoz_g",
        "colab_type": "text"
      },
      "source": [
        "Os Estados unidos possui o maior numero de mortes registradas seguido por Brasil, Mexico, Reino Unido, India,etc."
      ]
    },
    {
      "cell_type": "code",
      "metadata": {
        "id": "V3NbUiPqpZ3s",
        "colab_type": "code",
        "colab": {
          "base_uri": "https://localhost:8080/",
          "height": 350
        },
        "outputId": "e0721bd3-63e8-4c0f-b409-b1199d71e511"
      },
      "source": [
        "# gerando um DataFrame com os top 5 paises com mais mortes\n",
        "top5_total_deaths = df.loc[df.date == '2020-08-03', ['location', 'total_deaths']].sort_values(by='total_deaths', ascending=False)[1:6].copy()\n",
        "\n",
        "# plotando um grafico de barras com os top 5 paises com maior indice de mortes registrados\n",
        "fig, ax = plt.subplots(figsize=(10, 5))\n",
        "\n",
        "sns.barplot(x='location', y='total_deaths', data=top5_total_deaths, ax=ax)\n",
        "ax.set_ylabel('Total de Mortes')\n",
        "ax.set_xlabel('Paises')\n",
        "ax.set_title('Top 5 Paises com Maior Numero de Mortes Causadas Pelo COVID - 19')\n",
        "\n",
        "plt.show()"
      ],
      "execution_count": 11,
      "outputs": [
        {
          "output_type": "display_data",
          "data": {
            "image/png": "[encoded data removed]",
            "text/plain": [
              "<Figure size 720x360 with 1 Axes>"
            ]
          },
          "metadata": {
            "tags": [],
            "needs_background": "light"
          }
        }
      ]
    },
    {
      "cell_type": "markdown",
      "metadata": {
        "id": "7Iiai5qzvBSC",
        "colab_type": "text"
      },
      "source": [
        "Podemos ver que os EUA e o pais com o maior numero de mortes causadas pelo COVID - 19 no mundo."
      ]
    },
    {
      "cell_type": "code",
      "metadata": {
        "id": "yjn-TBMkZIQH",
        "colab_type": "code",
        "colab": {
          "base_uri": "https://localhost:8080/",
          "height": 261
        },
        "outputId": "9702230a-4087-4e13-e530-36a83b8b9b02"
      },
      "source": [
        "# visualizando os top 5 paises com o maior numero de mortes por milhão de pessoas\n",
        "df.loc[df.date == '2020-08-03'].sort_values(by='total_deaths_per_million', ascending=False)[1:6]"
      ],
      "execution_count": 12,
      "outputs": [
        {
          "output_type": "execute_result",
          "data": {
            "text/html": [
              "<div>\n",
              "<style scoped>\n",
              "    .dataframe tbody tr th:only-of-type {\n",
              "        vertical-align: middle;\n",
              "    }\n",
              "\n",
              "    .dataframe tbody tr th {\n",
              "        vertical-align: top;\n",
              "    }\n",
              "\n",
              "    .dataframe thead th {\n",
              "        text-align: right;\n",
              "    }\n",
              "</style>\n",
              "<table border=\"1\" class=\"dataframe\">\n",
              "  <thead>\n",
              "    <tr style=\"text-align: right;\">\n",
              "      <th></th>\n",
              "      <th>iso_code</th>\n",
              "      <th>continent</th>\n",
              "      <th>location</th>\n",
              "      <th>date</th>\n",
              "      <th>total_cases</th>\n",
              "      <th>new_cases</th>\n",
              "      <th>total_deaths</th>\n",
              "      <th>new_deaths</th>\n",
              "      <th>total_cases_per_million</th>\n",
              "      <th>new_cases_per_million</th>\n",
              "      <th>total_deaths_per_million</th>\n",
              "      <th>new_deaths_per_million</th>\n",
              "      <th>new_tests</th>\n",
              "      <th>total_tests</th>\n",
              "      <th>total_tests_per_thousand</th>\n",
              "      <th>new_tests_per_thousand</th>\n",
              "      <th>new_tests_smoothed</th>\n",
              "      <th>new_tests_smoothed_per_thousand</th>\n",
              "      <th>tests_units</th>\n",
              "      <th>stringency_index</th>\n",
              "      <th>population</th>\n",
              "      <th>population_density</th>\n",
              "      <th>median_age</th>\n",
              "      <th>aged_65_older</th>\n",
              "      <th>aged_70_older</th>\n",
              "      <th>gdp_per_capita</th>\n",
              "      <th>extreme_poverty</th>\n",
              "      <th>cardiovasc_death_rate</th>\n",
              "      <th>diabetes_prevalence</th>\n",
              "      <th>female_smokers</th>\n",
              "      <th>male_smokers</th>\n",
              "      <th>handwashing_facilities</th>\n",
              "      <th>hospital_beds_per_thousand</th>\n",
              "      <th>life_expectancy</th>\n",
              "    </tr>\n",
              "  </thead>\n",
              "  <tbody>\n",
              "    <tr>\n",
              "      <th>2619</th>\n",
              "      <td>BEL</td>\n",
              "      <td>Europe</td>\n",
              "      <td>Belgium</td>\n",
              "      <td>2020-08-03</td>\n",
              "      <td>69756.0</td>\n",
              "      <td>0.0</td>\n",
              "      <td>9845.0</td>\n",
              "      <td>0.0</td>\n",
              "      <td>6018.836</td>\n",
              "      <td>0.000</td>\n",
              "      <td>849.467</td>\n",
              "      <td>0.000</td>\n",
              "      <td>NaN</td>\n",
              "      <td>NaN</td>\n",
              "      <td>NaN</td>\n",
              "      <td>NaN</td>\n",
              "      <td>NaN</td>\n",
              "      <td>NaN</td>\n",
              "      <td>NaN</td>\n",
              "      <td>55.56</td>\n",
              "      <td>11589616.0</td>\n",
              "      <td>375.564</td>\n",
              "      <td>41.8</td>\n",
              "      <td>18.571</td>\n",
              "      <td>12.849</td>\n",
              "      <td>42658.576</td>\n",
              "      <td>0.2</td>\n",
              "      <td>114.898</td>\n",
              "      <td>4.29</td>\n",
              "      <td>25.1</td>\n",
              "      <td>31.4</td>\n",
              "      <td>NaN</td>\n",
              "      <td>5.64</td>\n",
              "      <td>81.63</td>\n",
              "    </tr>\n",
              "    <tr>\n",
              "      <th>11665</th>\n",
              "      <td>GBR</td>\n",
              "      <td>Europe</td>\n",
              "      <td>United Kingdom</td>\n",
              "      <td>2020-08-03</td>\n",
              "      <td>304695.0</td>\n",
              "      <td>743.0</td>\n",
              "      <td>46201.0</td>\n",
              "      <td>8.0</td>\n",
              "      <td>4488.333</td>\n",
              "      <td>10.945</td>\n",
              "      <td>680.567</td>\n",
              "      <td>0.118</td>\n",
              "      <td>NaN</td>\n",
              "      <td>NaN</td>\n",
              "      <td>NaN</td>\n",
              "      <td>NaN</td>\n",
              "      <td>NaN</td>\n",
              "      <td>NaN</td>\n",
              "      <td>NaN</td>\n",
              "      <td>NaN</td>\n",
              "      <td>67886004.0</td>\n",
              "      <td>272.898</td>\n",
              "      <td>40.8</td>\n",
              "      <td>18.517</td>\n",
              "      <td>12.527</td>\n",
              "      <td>39753.244</td>\n",
              "      <td>0.2</td>\n",
              "      <td>122.137</td>\n",
              "      <td>4.28</td>\n",
              "      <td>20.0</td>\n",
              "      <td>24.7</td>\n",
              "      <td>NaN</td>\n",
              "      <td>2.54</td>\n",
              "      <td>81.32</td>\n",
              "    </tr>\n",
              "    <tr>\n",
              "      <th>896</th>\n",
              "      <td>AND</td>\n",
              "      <td>Europe</td>\n",
              "      <td>Andorra</td>\n",
              "      <td>2020-08-03</td>\n",
              "      <td>925.0</td>\n",
              "      <td>0.0</td>\n",
              "      <td>52.0</td>\n",
              "      <td>0.0</td>\n",
              "      <td>11971.785</td>\n",
              "      <td>0.000</td>\n",
              "      <td>673.008</td>\n",
              "      <td>0.000</td>\n",
              "      <td>NaN</td>\n",
              "      <td>NaN</td>\n",
              "      <td>NaN</td>\n",
              "      <td>NaN</td>\n",
              "      <td>NaN</td>\n",
              "      <td>NaN</td>\n",
              "      <td>NaN</td>\n",
              "      <td>NaN</td>\n",
              "      <td>77265.0</td>\n",
              "      <td>163.755</td>\n",
              "      <td>NaN</td>\n",
              "      <td>NaN</td>\n",
              "      <td>NaN</td>\n",
              "      <td>NaN</td>\n",
              "      <td>NaN</td>\n",
              "      <td>109.135</td>\n",
              "      <td>7.97</td>\n",
              "      <td>29.0</td>\n",
              "      <td>37.8</td>\n",
              "      <td>NaN</td>\n",
              "      <td>NaN</td>\n",
              "      <td>83.73</td>\n",
              "    </tr>\n",
              "    <tr>\n",
              "      <th>25232</th>\n",
              "      <td>PER</td>\n",
              "      <td>South America</td>\n",
              "      <td>Peru</td>\n",
              "      <td>2020-08-03</td>\n",
              "      <td>428850.0</td>\n",
              "      <td>6667.0</td>\n",
              "      <td>19614.0</td>\n",
              "      <td>206.0</td>\n",
              "      <td>13006.551</td>\n",
              "      <td>202.203</td>\n",
              "      <td>594.871</td>\n",
              "      <td>6.248</td>\n",
              "      <td>NaN</td>\n",
              "      <td>NaN</td>\n",
              "      <td>NaN</td>\n",
              "      <td>NaN</td>\n",
              "      <td>NaN</td>\n",
              "      <td>NaN</td>\n",
              "      <td>NaN</td>\n",
              "      <td>NaN</td>\n",
              "      <td>32971846.0</td>\n",
              "      <td>25.129</td>\n",
              "      <td>29.1</td>\n",
              "      <td>7.151</td>\n",
              "      <td>4.455</td>\n",
              "      <td>12236.706</td>\n",
              "      <td>3.5</td>\n",
              "      <td>85.755</td>\n",
              "      <td>5.95</td>\n",
              "      <td>4.8</td>\n",
              "      <td>NaN</td>\n",
              "      <td>NaN</td>\n",
              "      <td>1.60</td>\n",
              "      <td>76.74</td>\n",
              "    </tr>\n",
              "    <tr>\n",
              "      <th>16276</th>\n",
              "      <td>ITA</td>\n",
              "      <td>Europe</td>\n",
              "      <td>Italy</td>\n",
              "      <td>2020-08-03</td>\n",
              "      <td>248070.0</td>\n",
              "      <td>238.0</td>\n",
              "      <td>35154.0</td>\n",
              "      <td>8.0</td>\n",
              "      <td>4102.919</td>\n",
              "      <td>3.936</td>\n",
              "      <td>581.425</td>\n",
              "      <td>0.132</td>\n",
              "      <td>13467.0</td>\n",
              "      <td>4131535.0</td>\n",
              "      <td>68.333</td>\n",
              "      <td>0.223</td>\n",
              "      <td>27024.0</td>\n",
              "      <td>0.447</td>\n",
              "      <td>people tested</td>\n",
              "      <td>NaN</td>\n",
              "      <td>60461828.0</td>\n",
              "      <td>205.859</td>\n",
              "      <td>47.9</td>\n",
              "      <td>23.021</td>\n",
              "      <td>16.240</td>\n",
              "      <td>35220.084</td>\n",
              "      <td>2.0</td>\n",
              "      <td>113.151</td>\n",
              "      <td>4.78</td>\n",
              "      <td>19.8</td>\n",
              "      <td>27.8</td>\n",
              "      <td>NaN</td>\n",
              "      <td>3.18</td>\n",
              "      <td>83.51</td>\n",
              "    </tr>\n",
              "  </tbody>\n",
              "</table>\n",
              "</div>"
            ],
            "text/plain": [
              "      iso_code      continent  ... hospital_beds_per_thousand life_expectancy\n",
              "2619       BEL         Europe  ...                       5.64           81.63\n",
              "11665      GBR         Europe  ...                       2.54           81.32\n",
              "896        AND         Europe  ...                        NaN           83.73\n",
              "25232      PER  South America  ...                       1.60           76.74\n",
              "16276      ITA         Europe  ...                       3.18           83.51\n",
              "\n",
              "[5 rows x 34 columns]"
            ]
          },
          "metadata": {
            "tags": []
          },
          "execution_count": 12
        }
      ]
    },
    {
      "cell_type": "markdown",
      "metadata": {
        "id": "LUWhyJ0vbiEA",
        "colab_type": "text"
      },
      "source": [
        "Podemos ver que Belgica e o país com o maior numero de mortes por milhão de pessoas seguido do Reino Unido, Andorra, Peru e Italia."
      ]
    },
    {
      "cell_type": "code",
      "metadata": {
        "id": "Sh4m5PjDVBBt",
        "colab_type": "code",
        "colab": {
          "base_uri": "https://localhost:8080/",
          "height": 350
        },
        "outputId": "6d67d62f-a208-4d79-8b2c-0a823fee6d8b"
      },
      "source": [
        "# Gerando um Dada Frame com os top 5 Paises com maior numero mortes por milhão de pessoas\n",
        "top_5_mortes_por_milhao = df.loc[df.date == '2020-08-03', ['location', 'total_deaths_per_million']].sort_values(by='total_deaths_per_million', ascending=False)[1:6].copy()\n",
        "\n",
        "# plotando um grafico de barras para os Top 5 Paises com o maior Mortes Por milhão\n",
        "fig, ax = plt.subplots(figsize=(10,5))\n",
        "\n",
        "sns.barplot(x='location', y='total_deaths_per_million', data=top_5_mortes_por_milhao, ax=ax)\n",
        "ax.set_xlabel('País')\n",
        "ax.set_ylabel('Mortes Por Milhão de Pessoas')\n",
        "ax.set_title('Top 5 Paises Com Maior Numero de Morte Por Milhão de Pessoas')\n",
        "plt.show()\n"
      ],
      "execution_count": 13,
      "outputs": [
        {
          "output_type": "display_data",
          "data": {
            "image/png": "[encoded data removed]",
            "text/plain": [
              "<Figure size 720x360 with 1 Axes>"
            ]
          },
          "metadata": {
            "tags": [],
            "needs_background": "light"
          }
        }
      ]
    },
    {
      "cell_type": "markdown",
      "metadata": {
        "id": "Yu6VLkUFYYyH",
        "colab_type": "text"
      },
      "source": [
        "Podemos ver que quando analisamos o numero de mortes por milhão de pessoas os paises com mais mortes mudam, trazendo a Belgica como o para o primeiro lugar da lista."
      ]
    },
    {
      "cell_type": "code",
      "metadata": {
        "id": "-vjPXFN3Yl5n",
        "colab_type": "code",
        "colab": {
          "base_uri": "https://localhost:8080/",
          "height": 350
        },
        "outputId": "156b7607-061d-4dca-bcee-9979fd2caec7"
      },
      "source": [
        "# gerando um DataFrame para analisar o dados mundiais\n",
        "df_world = df.loc[df.location == 'World'].copy()\n",
        "\n",
        "# plotando grafico de linhas para visualizar a evolução do casos de covid no mundo\n",
        "fig, ax = plt.subplots(figsize=(10,5))\n",
        "\n",
        "sns.lineplot(x='date' , y='total_cases', data=df_world, ax=ax)\n",
        "ax.set_ylabel('Total de Casos')\n",
        "ax.set_xlabel('Data')\n",
        "ax.set_title('Evolução dos Casos de COVID - 19 no Mundo')\n",
        "plt.show()"
      ],
      "execution_count": 14,
      "outputs": [
        {
          "output_type": "display_data",
          "data": {
            "image/png": "[encoded data removed]",
            "text/plain": [
              "<Figure size 720x360 with 1 Axes>"
            ]
          },
          "metadata": {
            "tags": [],
            "needs_background": "light"
          }
        }
      ]
    },
    {
      "cell_type": "markdown",
      "metadata": {
        "id": "cBaZz6jXJUo8",
        "colab_type": "text"
      },
      "source": [
        "Podemos notar que apartir do mês de Março de 2020 os casos de COVID - 19 começaram a aumentar seus registros no mundo."
      ]
    },
    {
      "cell_type": "code",
      "metadata": {
        "id": "LOnWMnPF0jiE",
        "colab_type": "code",
        "colab": {
          "base_uri": "https://localhost:8080/",
          "height": 109
        },
        "outputId": "e61e7c1c-7bf5-475d-8a88-0d85bcc88d91"
      },
      "source": [
        "# pegando os dados do ultimo dia registrado no Mundo\n",
        "df_world_ultimo_dia = df_world.loc[df_world.date == '2020-08-03'].copy()\n",
        "# verificando a porcentegem de mortes x casos no Mundo\n",
        "mortes = df_world_ultimo_dia.total_deaths.reset_index(drop=True)\n",
        "casos = df_world_ultimo_dia.total_cases.reset_index(drop=True)\n",
        "registros = df_world.shape[0]\n",
        "\n",
        "print(f'{casos[0]:.0f} Casos registrados no Mundo')\n",
        "print(f'{mortes[0]:.0f} Mortes registradas no Mundo')\n",
        "print(f'Média de {mortes[0]/registros:.2f} mortes diarias no Mundo')\n",
        "print(f'Média de {casos[0]/registros:.2f} casos diarios no Mundo')\n",
        "print(f'O numero de mortes registradas representa {(mortes[0]*100)/casos[0]:.2f}% do numero de casos')"
      ],
      "execution_count": 15,
      "outputs": [
        {
          "output_type": "stream",
          "text": [
            "18056310 Casos registrados no Mundo\n",
            "689219 Mortes registradas no Mundo\n",
            "Média de 3176.12 mortes diarias no Mundo\n",
            "Média de 83208.80 casos diarios no Mundo\n",
            "O numero de mortes registradas representa 3.82% do numero de casos\n"
          ],
          "name": "stdout"
        }
      ]
    },
    {
      "cell_type": "markdown",
      "metadata": {
        "id": "oBtKYPVlCT4W",
        "colab_type": "text"
      },
      "source": [
        "Foram registrados um total de 18056310 casos, 689219 mortes causados pelo COVID - 19 com uma média de 83208.80 casos e 3176.12 mortes diriamente no Mundo.\n",
        "\n",
        "A porcentagem de mortes e de 3.82% do total de casos registrados pelo COVID - 19 no mundo."
      ]
    },
    {
      "cell_type": "code",
      "metadata": {
        "id": "KI0nFE6RJUAh",
        "colab_type": "code",
        "colab": {
          "base_uri": "https://localhost:8080/",
          "height": 350
        },
        "outputId": "56130a67-cc58-4145-e969-312a01438e43"
      },
      "source": [
        "# gerando um DataFrame para analise do PIB dos Paises X Total de Mortes e Casos\n",
        "df_per_capita = df.loc[df.date == '2020-08-03'].sort_values(by='total_deaths', ascending=False)[1:].copy()\n",
        "\n",
        "# plotando um grafico de dispersão para comparação de Total de Mortes X PIB do País.\n",
        "fig, ax = plt.subplots(figsize=(10,5))\n",
        "\n",
        "sns.scatterplot(x='total_deaths', y='gdp_per_capita', data=df_per_capita, ax=ax)\n",
        "ax.set_ylabel('PIB do País')\n",
        "ax.set_xlabel('Total de Mortes')\n",
        "ax.set_title('Total de Mortes X PIB do País')\n",
        "plt.show()"
      ],
      "execution_count": 16,
      "outputs": [
        {
          "output_type": "display_data",
          "data": {
            "image/png": "[encoded data removed]",
            "text/plain": [
              "<Figure size 720x360 with 1 Axes>"
            ]
          },
          "metadata": {
            "tags": [],
            "needs_background": "light"
          }
        }
      ]
    },
    {
      "cell_type": "markdown",
      "metadata": {
        "id": "lPWBf1Yfd9Ol",
        "colab_type": "text"
      },
      "source": [
        "Analisando o grafico de dispersão notamos que a relação do PIB do Pais em relação a quantidade de mortes causadas pelo COVID - 19 não e conclusiva, pois envolve fatores como proporção de testes,etc."
      ]
    },
    {
      "cell_type": "code",
      "metadata": {
        "id": "VvWj37gYk3tj",
        "colab_type": "code",
        "colab": {
          "base_uri": "https://localhost:8080/",
          "height": 350
        },
        "outputId": "9619fa08-8628-42dd-bd35-ca12985aa1b9"
      },
      "source": [
        "# plotando um grafico de dispersão para comparação de Total de Casos X PIB do País.\n",
        "fig, ax = plt.subplots(figsize=(10,5))\n",
        "\n",
        "sns.scatterplot(x='total_cases', y='gdp_per_capita', data=df_per_capita, ax=ax)\n",
        "ax.set_ylabel('PIB do País')\n",
        "ax.set_xlabel('Total de Casos')\n",
        "ax.set_title('Total de Casos X PIB do País')\n",
        "plt.show()"
      ],
      "execution_count": 17,
      "outputs": [
        {
          "output_type": "display_data",
          "data": {
            "image/png": "[encoded data removed]",
            "text/plain": [
              "<Figure size 720x360 with 1 Axes>"
            ]
          },
          "metadata": {
            "tags": [],
            "needs_background": "light"
          }
        }
      ]
    },
    {
      "cell_type": "markdown",
      "metadata": {
        "id": "RfC6hw47qY_u",
        "colab_type": "text"
      },
      "source": [
        "Analisando o grafico de dispersão notamos que a relação do PIB do Pais em relação a quantidade de infectadas pelo COVID - 19 não e conclusiva, pois envolve fatores como proporção de testes,etc."
      ]
    },
    {
      "cell_type": "code",
      "metadata": {
        "id": "uuDvHDULcn82",
        "colab_type": "code",
        "colab": {
          "base_uri": "https://localhost:8080/",
          "height": 350
        },
        "outputId": "2a145b23-a1a6-4773-a9d9-67022cb5f1b4"
      },
      "source": [
        "# gerando um DataFrame para analise da correlação entre casos por milhão de pessoas vs densidade populacional\n",
        "df_populacao = df.loc[df.date == '2020-08-03', ['total_cases_per_million','population_density']].sort_values(by='population_density', ascending=False)[1:].copy()\n",
        "\n",
        "# plotando um grafico de dipersão para analisar a correlação de casos por milhão de pessoas vs densidade populacional\n",
        "fig, ax = plt.subplots(figsize=(10,5))\n",
        "\n",
        "sns.scatterplot(x='population_density', y='total_cases_per_million', data=df_populacao, ax=ax)\n",
        "ax.set_xlabel('Densidade Populacional')\n",
        "ax.set_ylabel('Total de Casos Por Milhão de Pessoas')\n",
        "ax.set_title('Total de Casos Por Milhão de Pessoas X Densidade Populacional')\n",
        "plt.show()"
      ],
      "execution_count": 27,
      "outputs": [
        {
          "output_type": "display_data",
          "data": {
            "image/png": "[encoded data removed]",
            "text/plain": [
              "<Figure size 720x360 with 1 Axes>"
            ]
          },
          "metadata": {
            "tags": [],
            "needs_background": "light"
          }
        }
      ]
    },
    {
      "cell_type": "markdown",
      "metadata": {
        "id": "hBDgGFLRh1IT",
        "colab_type": "text"
      },
      "source": [
        "Analisando o grafico de dispersão notamos que a relação da densidade populacional em relação a quantidade de casos por milhão de pessoas infectadas pelo COVID - 19 não e conclusiva, pois envolve fatores como proporção de testes,etc."
      ]
    },
    {
      "cell_type": "markdown",
      "metadata": {
        "id": "SViA5VZ7DYLA",
        "colab_type": "text"
      },
      "source": [
        "### Análise Exploratória para o Brasil\n",
        "\n",
        "Agora iremos realizar a analise exploratoria do COVID - 19 no Brasil"
      ]
    },
    {
      "cell_type": "code",
      "metadata": {
        "id": "UDQA502_hAwI",
        "colab_type": "code",
        "colab": {}
      },
      "source": [
        "# gerando um DataFrame somente como os dados do Brasil\n",
        "df_brasil = df.loc[df.location == 'Brazil'].copy()"
      ],
      "execution_count": 19,
      "outputs": []
    },
    {
      "cell_type": "code",
      "metadata": {
        "id": "Kfv9bBDPbyH6",
        "colab_type": "code",
        "colab": {
          "base_uri": "https://localhost:8080/",
          "height": 313
        },
        "outputId": "25fde615-6a1d-432d-e02c-5a212d6ce877"
      },
      "source": [
        "# visualizando as 5 primeiras linhas\n",
        "df_brasil.head()"
      ],
      "execution_count": 20,
      "outputs": [
        {
          "output_type": "execute_result",
          "data": {
            "text/html": [
              "<div>\n",
              "<style scoped>\n",
              "    .dataframe tbody tr th:only-of-type {\n",
              "        vertical-align: middle;\n",
              "    }\n",
              "\n",
              "    .dataframe tbody tr th {\n",
              "        vertical-align: top;\n",
              "    }\n",
              "\n",
              "    .dataframe thead th {\n",
              "        text-align: right;\n",
              "    }\n",
              "</style>\n",
              "<table border=\"1\" class=\"dataframe\">\n",
              "  <thead>\n",
              "    <tr style=\"text-align: right;\">\n",
              "      <th></th>\n",
              "      <th>iso_code</th>\n",
              "      <th>continent</th>\n",
              "      <th>location</th>\n",
              "      <th>date</th>\n",
              "      <th>total_cases</th>\n",
              "      <th>new_cases</th>\n",
              "      <th>total_deaths</th>\n",
              "      <th>new_deaths</th>\n",
              "      <th>total_cases_per_million</th>\n",
              "      <th>new_cases_per_million</th>\n",
              "      <th>total_deaths_per_million</th>\n",
              "      <th>new_deaths_per_million</th>\n",
              "      <th>new_tests</th>\n",
              "      <th>total_tests</th>\n",
              "      <th>total_tests_per_thousand</th>\n",
              "      <th>new_tests_per_thousand</th>\n",
              "      <th>new_tests_smoothed</th>\n",
              "      <th>new_tests_smoothed_per_thousand</th>\n",
              "      <th>tests_units</th>\n",
              "      <th>stringency_index</th>\n",
              "      <th>population</th>\n",
              "      <th>population_density</th>\n",
              "      <th>median_age</th>\n",
              "      <th>aged_65_older</th>\n",
              "      <th>aged_70_older</th>\n",
              "      <th>gdp_per_capita</th>\n",
              "      <th>extreme_poverty</th>\n",
              "      <th>cardiovasc_death_rate</th>\n",
              "      <th>diabetes_prevalence</th>\n",
              "      <th>female_smokers</th>\n",
              "      <th>male_smokers</th>\n",
              "      <th>handwashing_facilities</th>\n",
              "      <th>hospital_beds_per_thousand</th>\n",
              "      <th>life_expectancy</th>\n",
              "    </tr>\n",
              "  </thead>\n",
              "  <tbody>\n",
              "    <tr>\n",
              "      <th>4459</th>\n",
              "      <td>BRA</td>\n",
              "      <td>South America</td>\n",
              "      <td>Brazil</td>\n",
              "      <td>2019-12-31</td>\n",
              "      <td>0.0</td>\n",
              "      <td>0.0</td>\n",
              "      <td>0.0</td>\n",
              "      <td>0.0</td>\n",
              "      <td>0.0</td>\n",
              "      <td>0.0</td>\n",
              "      <td>0.0</td>\n",
              "      <td>0.0</td>\n",
              "      <td>NaN</td>\n",
              "      <td>NaN</td>\n",
              "      <td>NaN</td>\n",
              "      <td>NaN</td>\n",
              "      <td>NaN</td>\n",
              "      <td>NaN</td>\n",
              "      <td>NaN</td>\n",
              "      <td>NaN</td>\n",
              "      <td>212559409.0</td>\n",
              "      <td>25.04</td>\n",
              "      <td>33.5</td>\n",
              "      <td>8.552</td>\n",
              "      <td>5.06</td>\n",
              "      <td>14103.452</td>\n",
              "      <td>3.4</td>\n",
              "      <td>177.961</td>\n",
              "      <td>8.11</td>\n",
              "      <td>10.1</td>\n",
              "      <td>17.9</td>\n",
              "      <td>NaN</td>\n",
              "      <td>2.2</td>\n",
              "      <td>75.88</td>\n",
              "    </tr>\n",
              "    <tr>\n",
              "      <th>4460</th>\n",
              "      <td>BRA</td>\n",
              "      <td>South America</td>\n",
              "      <td>Brazil</td>\n",
              "      <td>2020-01-01</td>\n",
              "      <td>0.0</td>\n",
              "      <td>0.0</td>\n",
              "      <td>0.0</td>\n",
              "      <td>0.0</td>\n",
              "      <td>0.0</td>\n",
              "      <td>0.0</td>\n",
              "      <td>0.0</td>\n",
              "      <td>0.0</td>\n",
              "      <td>NaN</td>\n",
              "      <td>NaN</td>\n",
              "      <td>NaN</td>\n",
              "      <td>NaN</td>\n",
              "      <td>NaN</td>\n",
              "      <td>NaN</td>\n",
              "      <td>NaN</td>\n",
              "      <td>0.0</td>\n",
              "      <td>212559409.0</td>\n",
              "      <td>25.04</td>\n",
              "      <td>33.5</td>\n",
              "      <td>8.552</td>\n",
              "      <td>5.06</td>\n",
              "      <td>14103.452</td>\n",
              "      <td>3.4</td>\n",
              "      <td>177.961</td>\n",
              "      <td>8.11</td>\n",
              "      <td>10.1</td>\n",
              "      <td>17.9</td>\n",
              "      <td>NaN</td>\n",
              "      <td>2.2</td>\n",
              "      <td>75.88</td>\n",
              "    </tr>\n",
              "    <tr>\n",
              "      <th>4461</th>\n",
              "      <td>BRA</td>\n",
              "      <td>South America</td>\n",
              "      <td>Brazil</td>\n",
              "      <td>2020-01-02</td>\n",
              "      <td>0.0</td>\n",
              "      <td>0.0</td>\n",
              "      <td>0.0</td>\n",
              "      <td>0.0</td>\n",
              "      <td>0.0</td>\n",
              "      <td>0.0</td>\n",
              "      <td>0.0</td>\n",
              "      <td>0.0</td>\n",
              "      <td>NaN</td>\n",
              "      <td>NaN</td>\n",
              "      <td>NaN</td>\n",
              "      <td>NaN</td>\n",
              "      <td>NaN</td>\n",
              "      <td>NaN</td>\n",
              "      <td>NaN</td>\n",
              "      <td>0.0</td>\n",
              "      <td>212559409.0</td>\n",
              "      <td>25.04</td>\n",
              "      <td>33.5</td>\n",
              "      <td>8.552</td>\n",
              "      <td>5.06</td>\n",
              "      <td>14103.452</td>\n",
              "      <td>3.4</td>\n",
              "      <td>177.961</td>\n",
              "      <td>8.11</td>\n",
              "      <td>10.1</td>\n",
              "      <td>17.9</td>\n",
              "      <td>NaN</td>\n",
              "      <td>2.2</td>\n",
              "      <td>75.88</td>\n",
              "    </tr>\n",
              "    <tr>\n",
              "      <th>4462</th>\n",
              "      <td>BRA</td>\n",
              "      <td>South America</td>\n",
              "      <td>Brazil</td>\n",
              "      <td>2020-01-03</td>\n",
              "      <td>0.0</td>\n",
              "      <td>0.0</td>\n",
              "      <td>0.0</td>\n",
              "      <td>0.0</td>\n",
              "      <td>0.0</td>\n",
              "      <td>0.0</td>\n",
              "      <td>0.0</td>\n",
              "      <td>0.0</td>\n",
              "      <td>NaN</td>\n",
              "      <td>NaN</td>\n",
              "      <td>NaN</td>\n",
              "      <td>NaN</td>\n",
              "      <td>NaN</td>\n",
              "      <td>NaN</td>\n",
              "      <td>NaN</td>\n",
              "      <td>0.0</td>\n",
              "      <td>212559409.0</td>\n",
              "      <td>25.04</td>\n",
              "      <td>33.5</td>\n",
              "      <td>8.552</td>\n",
              "      <td>5.06</td>\n",
              "      <td>14103.452</td>\n",
              "      <td>3.4</td>\n",
              "      <td>177.961</td>\n",
              "      <td>8.11</td>\n",
              "      <td>10.1</td>\n",
              "      <td>17.9</td>\n",
              "      <td>NaN</td>\n",
              "      <td>2.2</td>\n",
              "      <td>75.88</td>\n",
              "    </tr>\n",
              "    <tr>\n",
              "      <th>4463</th>\n",
              "      <td>BRA</td>\n",
              "      <td>South America</td>\n",
              "      <td>Brazil</td>\n",
              "      <td>2020-01-04</td>\n",
              "      <td>0.0</td>\n",
              "      <td>0.0</td>\n",
              "      <td>0.0</td>\n",
              "      <td>0.0</td>\n",
              "      <td>0.0</td>\n",
              "      <td>0.0</td>\n",
              "      <td>0.0</td>\n",
              "      <td>0.0</td>\n",
              "      <td>NaN</td>\n",
              "      <td>NaN</td>\n",
              "      <td>NaN</td>\n",
              "      <td>NaN</td>\n",
              "      <td>NaN</td>\n",
              "      <td>NaN</td>\n",
              "      <td>NaN</td>\n",
              "      <td>0.0</td>\n",
              "      <td>212559409.0</td>\n",
              "      <td>25.04</td>\n",
              "      <td>33.5</td>\n",
              "      <td>8.552</td>\n",
              "      <td>5.06</td>\n",
              "      <td>14103.452</td>\n",
              "      <td>3.4</td>\n",
              "      <td>177.961</td>\n",
              "      <td>8.11</td>\n",
              "      <td>10.1</td>\n",
              "      <td>17.9</td>\n",
              "      <td>NaN</td>\n",
              "      <td>2.2</td>\n",
              "      <td>75.88</td>\n",
              "    </tr>\n",
              "  </tbody>\n",
              "</table>\n",
              "</div>"
            ],
            "text/plain": [
              "     iso_code      continent  ... hospital_beds_per_thousand life_expectancy\n",
              "4459      BRA  South America  ...                        2.2           75.88\n",
              "4460      BRA  South America  ...                        2.2           75.88\n",
              "4461      BRA  South America  ...                        2.2           75.88\n",
              "4462      BRA  South America  ...                        2.2           75.88\n",
              "4463      BRA  South America  ...                        2.2           75.88\n",
              "\n",
              "[5 rows x 34 columns]"
            ]
          },
          "metadata": {
            "tags": []
          },
          "execution_count": 20
        }
      ]
    },
    {
      "cell_type": "code",
      "metadata": {
        "id": "9gkRjAw8eMOi",
        "colab_type": "code",
        "colab": {
          "base_uri": "https://localhost:8080/",
          "height": 660
        },
        "outputId": "38d58fc8-edd1-4b72-99bc-357725b5dfcd"
      },
      "source": [
        "# visualizando a quantidade de dados ausentes ou nulos registrados no DateFrame do Brasil\n",
        "(df_brasil.isnull().sum()/ df_brasil.shape[0]).sort_values(ascending=False)"
      ],
      "execution_count": 21,
      "outputs": [
        {
          "output_type": "execute_result",
          "data": {
            "text/plain": [
              "handwashing_facilities             1.000000\n",
              "new_tests_per_thousand             1.000000\n",
              "new_tests                          1.000000\n",
              "total_tests_per_thousand           0.976959\n",
              "total_tests                        0.976959\n",
              "new_tests_smoothed_per_thousand    0.898618\n",
              "new_tests_smoothed                 0.898618\n",
              "tests_units                        0.829493\n",
              "stringency_index                   0.036866\n",
              "new_cases                          0.000000\n",
              "total_deaths                       0.000000\n",
              "new_deaths                         0.000000\n",
              "total_cases                        0.000000\n",
              "new_cases_per_million              0.000000\n",
              "total_deaths_per_million           0.000000\n",
              "new_deaths_per_million             0.000000\n",
              "date                               0.000000\n",
              "location                           0.000000\n",
              "continent                          0.000000\n",
              "total_cases_per_million            0.000000\n",
              "life_expectancy                    0.000000\n",
              "hospital_beds_per_thousand         0.000000\n",
              "population                         0.000000\n",
              "population_density                 0.000000\n",
              "median_age                         0.000000\n",
              "aged_65_older                      0.000000\n",
              "aged_70_older                      0.000000\n",
              "gdp_per_capita                     0.000000\n",
              "extreme_poverty                    0.000000\n",
              "cardiovasc_death_rate              0.000000\n",
              "diabetes_prevalence                0.000000\n",
              "female_smokers                     0.000000\n",
              "male_smokers                       0.000000\n",
              "iso_code                           0.000000\n",
              "dtype: float64"
            ]
          },
          "metadata": {
            "tags": []
          },
          "execution_count": 21
        }
      ]
    },
    {
      "cell_type": "markdown",
      "metadata": {
        "id": "XBl1yAa7jiWE",
        "colab_type": "text"
      },
      "source": [
        "Podemos ver que o Brasil possui 100% de dados nulos ou ausente na coluna de novos testes realizados e novos testes realizados por um mil de pessoas, na coluna total de teste e total de testes por um mil pessoas um total de 97% de dados nulos ou ausentes, na coluna novos teste acumulados em sete dias e novos testes acumulados em sete dias por um mil de pessoas 89% dos dados nulos ou ausentes."
      ]
    },
    {
      "cell_type": "code",
      "metadata": {
        "id": "UGkgKrvCcBeG",
        "colab_type": "code",
        "colab": {
          "base_uri": "https://localhost:8080/",
          "height": 167
        },
        "outputId": "20cbf52e-4beb-44aa-d451-631ec0c99302"
      },
      "source": [
        "# visualizando quando foi registrada a primeira morte por COVID-19\n",
        "df_brasil.loc[df_brasil.new_deaths > 0][0:2]"
      ],
      "execution_count": 22,
      "outputs": [
        {
          "output_type": "execute_result",
          "data": {
            "text/html": [
              "<div>\n",
              "<style scoped>\n",
              "    .dataframe tbody tr th:only-of-type {\n",
              "        vertical-align: middle;\n",
              "    }\n",
              "\n",
              "    .dataframe tbody tr th {\n",
              "        vertical-align: top;\n",
              "    }\n",
              "\n",
              "    .dataframe thead th {\n",
              "        text-align: right;\n",
              "    }\n",
              "</style>\n",
              "<table border=\"1\" class=\"dataframe\">\n",
              "  <thead>\n",
              "    <tr style=\"text-align: right;\">\n",
              "      <th></th>\n",
              "      <th>iso_code</th>\n",
              "      <th>continent</th>\n",
              "      <th>location</th>\n",
              "      <th>date</th>\n",
              "      <th>total_cases</th>\n",
              "      <th>new_cases</th>\n",
              "      <th>total_deaths</th>\n",
              "      <th>new_deaths</th>\n",
              "      <th>total_cases_per_million</th>\n",
              "      <th>new_cases_per_million</th>\n",
              "      <th>total_deaths_per_million</th>\n",
              "      <th>new_deaths_per_million</th>\n",
              "      <th>new_tests</th>\n",
              "      <th>total_tests</th>\n",
              "      <th>total_tests_per_thousand</th>\n",
              "      <th>new_tests_per_thousand</th>\n",
              "      <th>new_tests_smoothed</th>\n",
              "      <th>new_tests_smoothed_per_thousand</th>\n",
              "      <th>tests_units</th>\n",
              "      <th>stringency_index</th>\n",
              "      <th>population</th>\n",
              "      <th>population_density</th>\n",
              "      <th>median_age</th>\n",
              "      <th>aged_65_older</th>\n",
              "      <th>aged_70_older</th>\n",
              "      <th>gdp_per_capita</th>\n",
              "      <th>extreme_poverty</th>\n",
              "      <th>cardiovasc_death_rate</th>\n",
              "      <th>diabetes_prevalence</th>\n",
              "      <th>female_smokers</th>\n",
              "      <th>male_smokers</th>\n",
              "      <th>handwashing_facilities</th>\n",
              "      <th>hospital_beds_per_thousand</th>\n",
              "      <th>life_expectancy</th>\n",
              "    </tr>\n",
              "  </thead>\n",
              "  <tbody>\n",
              "    <tr>\n",
              "      <th>4537</th>\n",
              "      <td>BRA</td>\n",
              "      <td>South America</td>\n",
              "      <td>Brazil</td>\n",
              "      <td>2020-03-18</td>\n",
              "      <td>291.0</td>\n",
              "      <td>57.0</td>\n",
              "      <td>1.0</td>\n",
              "      <td>1.0</td>\n",
              "      <td>1.369</td>\n",
              "      <td>0.268</td>\n",
              "      <td>0.005</td>\n",
              "      <td>0.005</td>\n",
              "      <td>NaN</td>\n",
              "      <td>NaN</td>\n",
              "      <td>NaN</td>\n",
              "      <td>NaN</td>\n",
              "      <td>NaN</td>\n",
              "      <td>NaN</td>\n",
              "      <td>NaN</td>\n",
              "      <td>60.65</td>\n",
              "      <td>212559409.0</td>\n",
              "      <td>25.04</td>\n",
              "      <td>33.5</td>\n",
              "      <td>8.552</td>\n",
              "      <td>5.06</td>\n",
              "      <td>14103.452</td>\n",
              "      <td>3.4</td>\n",
              "      <td>177.961</td>\n",
              "      <td>8.11</td>\n",
              "      <td>10.1</td>\n",
              "      <td>17.9</td>\n",
              "      <td>NaN</td>\n",
              "      <td>2.2</td>\n",
              "      <td>75.88</td>\n",
              "    </tr>\n",
              "    <tr>\n",
              "      <th>4538</th>\n",
              "      <td>BRA</td>\n",
              "      <td>South America</td>\n",
              "      <td>Brazil</td>\n",
              "      <td>2020-03-19</td>\n",
              "      <td>428.0</td>\n",
              "      <td>137.0</td>\n",
              "      <td>4.0</td>\n",
              "      <td>3.0</td>\n",
              "      <td>2.014</td>\n",
              "      <td>0.645</td>\n",
              "      <td>0.019</td>\n",
              "      <td>0.014</td>\n",
              "      <td>NaN</td>\n",
              "      <td>NaN</td>\n",
              "      <td>NaN</td>\n",
              "      <td>NaN</td>\n",
              "      <td>NaN</td>\n",
              "      <td>NaN</td>\n",
              "      <td>NaN</td>\n",
              "      <td>66.20</td>\n",
              "      <td>212559409.0</td>\n",
              "      <td>25.04</td>\n",
              "      <td>33.5</td>\n",
              "      <td>8.552</td>\n",
              "      <td>5.06</td>\n",
              "      <td>14103.452</td>\n",
              "      <td>3.4</td>\n",
              "      <td>177.961</td>\n",
              "      <td>8.11</td>\n",
              "      <td>10.1</td>\n",
              "      <td>17.9</td>\n",
              "      <td>NaN</td>\n",
              "      <td>2.2</td>\n",
              "      <td>75.88</td>\n",
              "    </tr>\n",
              "  </tbody>\n",
              "</table>\n",
              "</div>"
            ],
            "text/plain": [
              "     iso_code      continent  ... hospital_beds_per_thousand life_expectancy\n",
              "4537      BRA  South America  ...                        2.2           75.88\n",
              "4538      BRA  South America  ...                        2.2           75.88\n",
              "\n",
              "[2 rows x 34 columns]"
            ]
          },
          "metadata": {
            "tags": []
          },
          "execution_count": 22
        }
      ]
    },
    {
      "cell_type": "code",
      "metadata": {
        "id": "BfReWiY6nZUt",
        "colab_type": "code",
        "colab": {
          "base_uri": "https://localhost:8080/",
          "height": 167
        },
        "outputId": "8f69c4cf-20c3-41b1-d001-31ddd12f2f8b"
      },
      "source": [
        "# visualizando o quando foi registrado o primeiro caso de COVID-19\n",
        "df_brasil.loc[df_brasil.new_cases > 0][0:2]"
      ],
      "execution_count": 23,
      "outputs": [
        {
          "output_type": "execute_result",
          "data": {
            "text/html": [
              "<div>\n",
              "<style scoped>\n",
              "    .dataframe tbody tr th:only-of-type {\n",
              "        vertical-align: middle;\n",
              "    }\n",
              "\n",
              "    .dataframe tbody tr th {\n",
              "        vertical-align: top;\n",
              "    }\n",
              "\n",
              "    .dataframe thead th {\n",
              "        text-align: right;\n",
              "    }\n",
              "</style>\n",
              "<table border=\"1\" class=\"dataframe\">\n",
              "  <thead>\n",
              "    <tr style=\"text-align: right;\">\n",
              "      <th></th>\n",
              "      <th>iso_code</th>\n",
              "      <th>continent</th>\n",
              "      <th>location</th>\n",
              "      <th>date</th>\n",
              "      <th>total_cases</th>\n",
              "      <th>new_cases</th>\n",
              "      <th>total_deaths</th>\n",
              "      <th>new_deaths</th>\n",
              "      <th>total_cases_per_million</th>\n",
              "      <th>new_cases_per_million</th>\n",
              "      <th>total_deaths_per_million</th>\n",
              "      <th>new_deaths_per_million</th>\n",
              "      <th>new_tests</th>\n",
              "      <th>total_tests</th>\n",
              "      <th>total_tests_per_thousand</th>\n",
              "      <th>new_tests_per_thousand</th>\n",
              "      <th>new_tests_smoothed</th>\n",
              "      <th>new_tests_smoothed_per_thousand</th>\n",
              "      <th>tests_units</th>\n",
              "      <th>stringency_index</th>\n",
              "      <th>population</th>\n",
              "      <th>population_density</th>\n",
              "      <th>median_age</th>\n",
              "      <th>aged_65_older</th>\n",
              "      <th>aged_70_older</th>\n",
              "      <th>gdp_per_capita</th>\n",
              "      <th>extreme_poverty</th>\n",
              "      <th>cardiovasc_death_rate</th>\n",
              "      <th>diabetes_prevalence</th>\n",
              "      <th>female_smokers</th>\n",
              "      <th>male_smokers</th>\n",
              "      <th>handwashing_facilities</th>\n",
              "      <th>hospital_beds_per_thousand</th>\n",
              "      <th>life_expectancy</th>\n",
              "    </tr>\n",
              "  </thead>\n",
              "  <tbody>\n",
              "    <tr>\n",
              "      <th>4516</th>\n",
              "      <td>BRA</td>\n",
              "      <td>South America</td>\n",
              "      <td>Brazil</td>\n",
              "      <td>2020-02-26</td>\n",
              "      <td>1.0</td>\n",
              "      <td>1.0</td>\n",
              "      <td>0.0</td>\n",
              "      <td>0.0</td>\n",
              "      <td>0.005</td>\n",
              "      <td>0.005</td>\n",
              "      <td>0.0</td>\n",
              "      <td>0.0</td>\n",
              "      <td>NaN</td>\n",
              "      <td>NaN</td>\n",
              "      <td>NaN</td>\n",
              "      <td>NaN</td>\n",
              "      <td>NaN</td>\n",
              "      <td>NaN</td>\n",
              "      <td>NaN</td>\n",
              "      <td>5.56</td>\n",
              "      <td>212559409.0</td>\n",
              "      <td>25.04</td>\n",
              "      <td>33.5</td>\n",
              "      <td>8.552</td>\n",
              "      <td>5.06</td>\n",
              "      <td>14103.452</td>\n",
              "      <td>3.4</td>\n",
              "      <td>177.961</td>\n",
              "      <td>8.11</td>\n",
              "      <td>10.1</td>\n",
              "      <td>17.9</td>\n",
              "      <td>NaN</td>\n",
              "      <td>2.2</td>\n",
              "      <td>75.88</td>\n",
              "    </tr>\n",
              "    <tr>\n",
              "      <th>4520</th>\n",
              "      <td>BRA</td>\n",
              "      <td>South America</td>\n",
              "      <td>Brazil</td>\n",
              "      <td>2020-03-01</td>\n",
              "      <td>2.0</td>\n",
              "      <td>1.0</td>\n",
              "      <td>0.0</td>\n",
              "      <td>0.0</td>\n",
              "      <td>0.009</td>\n",
              "      <td>0.005</td>\n",
              "      <td>0.0</td>\n",
              "      <td>0.0</td>\n",
              "      <td>NaN</td>\n",
              "      <td>NaN</td>\n",
              "      <td>NaN</td>\n",
              "      <td>NaN</td>\n",
              "      <td>NaN</td>\n",
              "      <td>NaN</td>\n",
              "      <td>NaN</td>\n",
              "      <td>5.56</td>\n",
              "      <td>212559409.0</td>\n",
              "      <td>25.04</td>\n",
              "      <td>33.5</td>\n",
              "      <td>8.552</td>\n",
              "      <td>5.06</td>\n",
              "      <td>14103.452</td>\n",
              "      <td>3.4</td>\n",
              "      <td>177.961</td>\n",
              "      <td>8.11</td>\n",
              "      <td>10.1</td>\n",
              "      <td>17.9</td>\n",
              "      <td>NaN</td>\n",
              "      <td>2.2</td>\n",
              "      <td>75.88</td>\n",
              "    </tr>\n",
              "  </tbody>\n",
              "</table>\n",
              "</div>"
            ],
            "text/plain": [
              "     iso_code      continent  ... hospital_beds_per_thousand life_expectancy\n",
              "4516      BRA  South America  ...                        2.2           75.88\n",
              "4520      BRA  South America  ...                        2.2           75.88\n",
              "\n",
              "[2 rows x 34 columns]"
            ]
          },
          "metadata": {
            "tags": []
          },
          "execution_count": 23
        }
      ]
    },
    {
      "cell_type": "markdown",
      "metadata": {
        "id": "WGFBbV8PeMLS",
        "colab_type": "text"
      },
      "source": [
        "A primeira morte de causada pelo COVID-19 foi registrada no dia 18 de Março de 2020 a qual veio a ocorrer 21 dias após o primeiro caso registrado no dia 26 de Fevereiro de 2020."
      ]
    },
    {
      "cell_type": "code",
      "metadata": {
        "id": "DlZgYN1ELMnj",
        "colab_type": "code",
        "colab": {
          "base_uri": "https://localhost:8080/",
          "height": 350
        },
        "outputId": "4fe6dfa5-05c2-4964-a029-1795f870c143"
      },
      "source": [
        "fig, ax = plt.subplots(figsize=(10,5))\n",
        "\n",
        "sns.lineplot(x='date', y='total_cases', data=df_brasil, ax=ax)\n",
        "sns.lineplot(x='date', y='total_deaths', data=df_brasil, ax=ax)\n",
        "ax.legend(('Total de Casos', 'Total de Mortes'))\n",
        "ax.set_title('Total de Casos X Total de Mortes')\n",
        "ax.set_ylabel('Quantidade de Pessoas')\n",
        "ax.set_xlabel('Data')\n",
        "\n",
        "plt.show()"
      ],
      "execution_count": 24,
      "outputs": [
        {
          "output_type": "display_data",
          "data": {
            "image/png": "[encoded data removed]",
            "text/plain": [
              "<Figure size 720x360 with 1 Axes>"
            ]
          },
          "metadata": {
            "tags": [],
            "needs_background": "light"
          }
        }
      ]
    },
    {
      "cell_type": "markdown",
      "metadata": {
        "id": "jKPK-djkHDVa",
        "colab_type": "text"
      },
      "source": [
        "Analisando o grafico de linhas vemos que a quantide de casos do COVID - 19 no Brasil vem sofrendo uma evolução consideravel assim como o a quantidade de mortes vem crescendo lentamente em comparação com a quantidade de casos."
      ]
    },
    {
      "cell_type": "code",
      "metadata": {
        "id": "IDPZgU1oMxg8",
        "colab_type": "code",
        "colab": {
          "base_uri": "https://localhost:8080/",
          "height": 109
        },
        "outputId": "6ebb1945-14b3-4b40-9d11-96836ecbb0f1"
      },
      "source": [
        "# pegando os dados do ultimo dia registrado no Brasil\n",
        "df_brasil_ultimo_dia = df_brasil.loc[df_brasil.date == '2020-08-03'].copy()\n",
        "# verificando a porcentegem de mortes x casos no mundo\n",
        "mortes = df_brasil_ultimo_dia.total_deaths.reset_index(drop=True)\n",
        "casos = df_brasil_ultimo_dia.total_cases.reset_index(drop=True)\n",
        "registros = df_brasil.shape[0]\n",
        "\n",
        "print(f'{casos[0]:.0f} Casos registrados no Brasil')\n",
        "print(f'{mortes[0]:.0f} Mortes registradas no Brasil')\n",
        "print(f'Média de {mortes[0]/registros:.2f} mortes diarias no Brasil')\n",
        "print(f'Média de {casos[0]/registros:.2f} casos diarios no Brasil')\n",
        "print(f'O numero de mortes registradas representa {(mortes[0]*100)/casos[0]:.2f}% do numero de casos')"
      ],
      "execution_count": 25,
      "outputs": [
        {
          "output_type": "stream",
          "text": [
            "2733677 Casos registrados no Brasil\n",
            "94104 Mortes registradas no Brasil\n",
            "Média de 433.66 mortes diarias no Brasil\n",
            "Média de 12597.59 casos diarios no Brasil\n",
            "O numero de mortes registradas representa 3.44% do numero de casos\n"
          ],
          "name": "stdout"
        }
      ]
    },
    {
      "cell_type": "markdown",
      "metadata": {
        "id": "jQAocfqRMyiE",
        "colab_type": "text"
      },
      "source": [
        "O numero de casos registrados e de 2733677 casos e 94104 mortes totais causadas pelo COVID - 19 uma média de 433.66 mortes e 12597.59 casos registrados diariamente.\n",
        "\n",
        "O percentual de mortes registradas pelo COVID - 19 reprensenta 3.44% do total de casos registrados."
      ]
    },
    {
      "cell_type": "markdown",
      "metadata": {
        "id": "LCsiXvM3BcsO",
        "colab_type": "text"
      },
      "source": [
        "## Conclusão\n",
        "\n",
        "Podemos concluir que o COVID - 19 por ser um vírus com alto índice de transmissão,contagio e por não ter uma vacina torna-se de dificil controle de propagação mesmo utilizando o metodos como: quarentena , controle de aglomerações , uso de equipamento de controle de transmissão(mascaras, luvas, alcool, limpeza dos ambientes, sabão, etc...), os quais não se monstram 100% eficientes para controle da propagação.\n",
        "\n",
        "Por ser um vírus que possui sintomas diferentes em cada pacience infectado que em alguns casos pode ser acintomatico e não vir a apresentar sintomas ou apresentar sintomas leves e ter um alto custo de teste variando de local para local, oque não garante que um paciente testado negativo hoje , não possa se torna possitivo no dia seguinte,devido a ele não possuir resistencia imonologia contra o vírus devido a falta de uma vacina para o mesmo.\n",
        "\n",
        "Os tratamentos utilizados mostraram-se eficientes ocasionando uma leve redução no numero de novas de mortes.\n",
        "\n",
        "O percentual de mortes no Mundo e de 3.82% dos casos totais registrados.\n",
        "\n",
        "O percentual de mortes no Brasil e de 3.44% dos casos totais registrados.\n",
        "\n",
        "O Brasil teve o seu primeiro caso de COVID - 19 registrado no dia 26 de fevereiro de 2020 vindo a ter o seu primeiro obito 21 dias depois no dia 18 de Março de 2020.\n",
        "\n",
        "A primeira morte de causada pelo COVID-19 foi registrada no dia 18 de Março de 2020 a qual veio a ocorrer 21 dias após o primeiro caso registrado no dia 26 de Fevereiro de 2020.\n",
        "\n",
        "Levando enconta que o tratamento previne a morte do paciente e não a transmisão e o contagio."
      ]
    }
  ]
}